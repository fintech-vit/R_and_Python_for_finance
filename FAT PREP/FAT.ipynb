{
 "cells": [
  {
   "cell_type": "markdown",
   "metadata": {},
   "source": [
    "## Question 1\n",
    "\n",
    "- Describe the various techniques used in algorithmic trading and explain how each one operates. Compare strategies such as trend-following, mean reversion, arbitrage, and market-making. Highlight their benefits and challenges under different market conditions, and provide theoretical examples to illustrate your explanation.\n",
    "\n",
    "\n"
   ]
  },
  {
   "cell_type": "markdown",
   "metadata": {},
   "source": [
    "## Question 2\n",
    "\n",
    "- Discuss the significance of error handling in software development.\n",
    "- Explain the various types of errors—syntax errors, runtime errors, and logical errors—with appropriate examples. \n",
    "- Additionally, describe how exception handling mechanisms, such as Python’s `try-except` blocks, assist in managing runtime errors. \n",
    "- Provide a code example that demonstrates effective error handling in any programming language of your choice.\n",
    "\n"
   ]
  },
  {
   "cell_type": "markdown",
   "metadata": {},
   "source": [
    "## Question 3\n",
    "- Describe the concept of pairs trading in your own words. Why is it regarded as an effective trading strategy? How does it differ from other trading approaches? Include a sample code snippet to support your explanation."
   ]
  },
  {
   "cell_type": "markdown",
   "metadata": {},
   "source": [
    "## Question 4\n",
    "- Discuss the importance of data visualization in financial data analysis. Explain different visualization techniques.\n",
    "- Explain various two-dimensional plotting techniques used in financial data analysis."
   ]
  },
  {
   "cell_type": "markdown",
   "metadata": {},
   "source": [
    "## Question 5\n",
    "- a) Describe in detail about Ordinary Least Squares Regression.\n",
    "- b) Explain how OLS Regression is different from other regression algorithms.\n",
    "- c) Write a program in R to perform OLS Regression\n"
   ]
  },
  {
   "cell_type": "markdown",
   "metadata": {},
   "source": [
    "## Question 6\n",
    "- Explain Linear Discriminant Analysis (LDA). How does it differ from Linear Regression, and for what type of problems is it primarily used?"
   ]
  },
  {
   "cell_type": "markdown",
   "metadata": {},
   "source": [
    "## Question 7\n",
    "- Compare and contrast L1 and L2 regularization techniques in the context of Linear Regression. How do they impact the model and feature selection?"
   ]
  },
  {
   "cell_type": "markdown",
   "metadata": {},
   "source": [
    "## Question 8\n",
    "- Evaluate the strengths and weaknesses of K-Means and DBSCAN algorithms for customer segmentation based on purchasing behavior, considering dataset size, noise, and cluster shape. Justify which algorithm you would recommend and why."
   ]
  },
  {
   "cell_type": "markdown",
   "metadata": {},
   "source": [
    "## Question 9\n",
    "- XGBoost algorithm (can't provide in question format, so learn the topic good)"
   ]
  },
  {
   "cell_type": "markdown",
   "metadata": {},
   "source": [
    "## Question 10\n",
    "Create a Python class named ProductInventory that represents a simple product inventory.\n",
    "\n",
    "The class should have an __init__ method that initializes the inventory with a product_name, product_id, and stock_quantity.\n",
    "\n",
    "Implement a method add_stock(quantity: int) to add stock to the inventory.\n",
    "\n",
    "Implement a method reduce_stock(quantity: int) that reduces the stock quantity (only if sufficient stock is available).\n",
    "\n",
    "Implement a method get_stock_quantity() that returns the current stock quantity.\n",
    "\n",
    "Implement a method product_summary() that prints the product's name, product ID, and stock quantity.\n",
    "\n",
    "Write a Python program to:\n",
    "\n",
    "Create an instance of ProductInventory.\n",
    "\n",
    "Perform an addition and reduction of stock.\n",
    "\n",
    "Display the product summary."
   ]
  },
  {
   "cell_type": "markdown",
   "metadata": {},
   "source": [
    "## Question 11\n",
    "```python\n",
    "from flask import Flask, request\n",
    "\n",
    "app = Flask(__name__)\n",
    "\n",
    "@app.route('/calculate')\n",
    "def calculate():\n",
    "    a = request.args.get('a')\n",
    "    b = request.args.get('b')\n",
    "    operator = request.args.get('operator')\n",
    "\n",
    "    if a and b and operator:\n",
    "        try:\n",
    "            num1 = float(a)\n",
    "            num2 = float(b)\n",
    "            if operator == 'add':\n",
    "                result = num1 + num2\n",
    "                operation = '+'\n",
    "            elif operator == 'subtract':\n",
    "                result = num1 - num2\n",
    "                operation = '-'\n",
    "            elif operator == 'multiply':\n",
    "                result = num1 * num2\n",
    "                operation = '*'\n",
    "            elif operator == 'divide':\n",
    "                if num2 == 0:\n",
    "                    return \"Error: Cannot divide by zero\"\n",
    "                result = num1 / num2\n",
    "                operation = '/'\n",
    "            else:\n",
    "                return \"Error: Invalid operator\"\n",
    "            return f'{num1} {operation} {num2} = {result}'\n",
    "        except ValueError:\n",
    "            return \"Error: Invalid input. 'a' and 'b' must be numbers.\"\n",
    "    else:\n",
    "        return \"Error: Insufficient arguments. Please provide 'a', 'b', and 'operator'.\"\n",
    "\n",
    "if __name__ == '__main__':\n",
    "    app.run(debug=True)\n",
    "```\n",
    "Match the following URLs with their corresponding rendered output from the Flask application:\n",
    "\n",
    "|       | URLs                                                  |       | Output                 |\n",
    "| :---- | :---------------------------------------------------- | :---- | :--------------------- |\n",
    "| 1     | http://localhost:5000/calculate?a=4&b=2&operator=multiply | a     | Error: Invalid operator |\n",
    "| 2     | http://localhost:5000/calculate?a=4&b=2&operator=add      | b     | 4.0 + 2.0 = 6.0       |\n",
    "| 3     | http://localhost:5000/calculate?a=4&b=2&operator=subtract  | c     | 4.0 - 2.0 = 2.0       |\n",
    "|       |                                                       | d     | 4.0 / 2.0 = 2.0       |\n",
    "|       |                                                       | e     | Error: Cannot divide by zero |\n"
   ]
  },
  {
   "cell_type": "markdown",
   "metadata": {},
   "source": [
    "## Question 12\n",
    "- Consider a Multi-Layer Perceptron (MLP) model with two hidden layers and one output layer. The first hidden layer has 8 neurons, the second hidden layer has 5 neurons, and the output layer has 2 neurons. The input to the MLP is a 3-dimensional vector. Each neuron is connected to every neuron in the previous layer, and a bias term is included for each neuron. The activation function used is the sigmoid function. Calculate the total number of trainable parameters in this MLP model.\n",
    "\n",
    "- Solution\n",
    "  - https://chatgpt.com/share/68104a9b-6844-800c-90f5-2920e77295e8\n"
   ]
  },
  {
   "cell_type": "markdown",
   "metadata": {},
   "source": [
    "## Question 13\n",
    "- Anomaly detection using isolation forest algorithm"
   ]
  },
  {
   "cell_type": "markdown",
   "metadata": {},
   "source": [
    "## Question 14\n",
    "- Compare and contrast how you would implement \"Static Plots,\" \"Interactive Plots,\" and \"Real-Time Plots\" within a Flask application for financial data visualization. Discuss the Flask libraries or techniques you might use for each type of plot and how you would render them in web templates."
   ]
  },
  {
   "cell_type": "markdown",
   "metadata": {},
   "source": [
    "## Question 15\n",
    "- What is Anomaly Detection\n",
    "- How would you distinguish between normal market    fluctuations and genuine anomalies?\n",
    "- How would you implement Anomaly Detection in a real-world scenario?"
   ]
  },
  {
   "cell_type": "markdown",
   "metadata": {},
   "source": [
    "## Question 16\n",
    "- Consider a Multi-Layer Perceptron (MLP) model with one hidden layer and one output layer. The hidden layer has 10 neurons, and the output layer has 3 neurons. The input to the MLP is a 5-dimensional vector. Each neuron is connected to every neuron in the previous layer, and a bias term is included for each neuron. The activation function used is the sigmoid function. Calculate the total number of trainable parameters in this MLP model.\n",
    "\n",
    "- Solution \n",
    "  - https://chatgpt.com/share/68104a6e-ae3c-800c-bea3-9c740274a03a\n"
   ]
  },
  {
   "cell_type": "markdown",
   "metadata": {},
   "source": [
    "## Question 17\n",
    "- Differentiate between K-means and DBSCAN Algorithm in Detail"
   ]
  },
  {
   "cell_type": "markdown",
   "metadata": {},
   "source": [
    "## Question 18\n",
    "- How can regression analysis be visually represented using financial plots, and what information does the resulting plot convey about the relationship between financial variables?"
   ]
  },
  {
   "cell_type": "markdown",
   "metadata": {},
   "source": [
    "## Question 19\n",
    "- Describe the key components of a candlestick chart and how each component (open, high, low, close) provides information about the price movement of a financial asset over a specific period."
   ]
  },
  {
   "cell_type": "markdown",
   "metadata": {},
   "source": [
    "## Question 20\n",
    "- What is Bayesian hyperparameter optimization, and how can it be applied to improve the performance of financial models? How does it differ from traditional grid search or random search methods?"
   ]
  },
  {
   "cell_type": "markdown",
   "metadata": {},
   "source": [
    "## Question 21\n",
    "- Discuss a scenario in financial modeling where you might choose to use SMOTE over simple oversampling or undersampling. What characteristics of the data or the modeling task would influence this decision?"
   ]
  },
  {
   "cell_type": "markdown",
   "metadata": {},
   "source": []
  }
 ],
 "metadata": {
  "kernelspec": {
   "display_name": "env",
   "language": "python",
   "name": "python3"
  },
  "language_info": {
   "name": "python",
   "version": "3.10.12"
  }
 },
 "nbformat": 4,
 "nbformat_minor": 2
}
