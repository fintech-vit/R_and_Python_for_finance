{
  "cells": [
    {
      "cell_type": "markdown",
      "metadata": {
        "id": "mJmX9RrzM7pk"
      },
      "source": [
        "# Exploratory Data Analysis(EDA) of Financial  Data"
      ]
    },
    {
      "cell_type": "code",
      "execution_count": 49,
      "metadata": {
        "execution": {
          "iopub.execute_input": "2022-10-21T16:33:06.914131Z",
          "iopub.status.busy": "2022-10-21T16:33:06.913713Z",
          "iopub.status.idle": "2022-10-21T16:33:06.920485Z",
          "shell.execute_reply": "2022-10-21T16:33:06.91965Z",
          "shell.execute_reply.started": "2022-10-21T16:33:06.91409Z"
        },
        "id": "A_LPAsj4M7pm",
        "trusted": true
      },
      "outputs": [],
      "source": [
        "import numpy as np\n",
        "import matplotlib .pyplot as plt\n",
        "import pandas as pd\n",
        "import seaborn as sns\n",
        "color = sns.color_palette()\n",
        "import sklearn.metrics as metrics\n",
        "import warnings\n",
        "warnings.filterwarnings(\"ignore\")"
      ]
    },
    {
      "cell_type": "code",
      "execution_count": 50,
      "metadata": {
        "execution": {
          "iopub.execute_input": "2022-10-21T16:33:06.927773Z",
          "iopub.status.busy": "2022-10-21T16:33:06.927127Z",
          "iopub.status.idle": "2022-10-21T16:33:06.964093Z",
          "shell.execute_reply": "2022-10-21T16:33:06.962934Z",
          "shell.execute_reply.started": "2022-10-21T16:33:06.92772Z"
        },
        "id": "VP9s0p3iM7pn",
        "trusted": true
      },
      "outputs": [
        {
          "data": {
            "text/html": [
              "<div>\n",
              "<style scoped>\n",
              "    .dataframe tbody tr th:only-of-type {\n",
              "        vertical-align: middle;\n",
              "    }\n",
              "\n",
              "    .dataframe tbody tr th {\n",
              "        vertical-align: top;\n",
              "    }\n",
              "\n",
              "    .dataframe thead th {\n",
              "        text-align: right;\n",
              "    }\n",
              "</style>\n",
              "<table border=\"1\" class=\"dataframe\">\n",
              "  <thead>\n",
              "    <tr style=\"text-align: right;\">\n",
              "      <th></th>\n",
              "      <th>Unnamed: 0</th>\n",
              "      <th>default</th>\n",
              "      <th>student</th>\n",
              "      <th>balance</th>\n",
              "      <th>income</th>\n",
              "    </tr>\n",
              "  </thead>\n",
              "  <tbody>\n",
              "    <tr>\n",
              "      <th>0</th>\n",
              "      <td>1</td>\n",
              "      <td>No</td>\n",
              "      <td>No</td>\n",
              "      <td>729.526495</td>\n",
              "      <td>44361.625074</td>\n",
              "    </tr>\n",
              "    <tr>\n",
              "      <th>1</th>\n",
              "      <td>2</td>\n",
              "      <td>No</td>\n",
              "      <td>Yes</td>\n",
              "      <td>817.180407</td>\n",
              "      <td>12106.134700</td>\n",
              "    </tr>\n",
              "    <tr>\n",
              "      <th>2</th>\n",
              "      <td>3</td>\n",
              "      <td>No</td>\n",
              "      <td>No</td>\n",
              "      <td>1073.549164</td>\n",
              "      <td>31767.138947</td>\n",
              "    </tr>\n",
              "    <tr>\n",
              "      <th>3</th>\n",
              "      <td>4</td>\n",
              "      <td>No</td>\n",
              "      <td>No</td>\n",
              "      <td>529.250605</td>\n",
              "      <td>35704.493935</td>\n",
              "    </tr>\n",
              "    <tr>\n",
              "      <th>4</th>\n",
              "      <td>5</td>\n",
              "      <td>No</td>\n",
              "      <td>No</td>\n",
              "      <td>785.655883</td>\n",
              "      <td>38463.495879</td>\n",
              "    </tr>\n",
              "  </tbody>\n",
              "</table>\n",
              "</div>"
            ],
            "text/plain": [
              "   Unnamed: 0 default student      balance        income\n",
              "0           1      No      No   729.526495  44361.625074\n",
              "1           2      No     Yes   817.180407  12106.134700\n",
              "2           3      No      No  1073.549164  31767.138947\n",
              "3           4      No      No   529.250605  35704.493935\n",
              "4           5      No      No   785.655883  38463.495879"
            ]
          },
          "execution_count": 50,
          "metadata": {},
          "output_type": "execute_result"
        }
      ],
      "source": [
        "Default = pd.read_csv('Default.csv')\n",
        "Default.head()"
      ]
    },
    {
      "cell_type": "code",
      "execution_count": 51,
      "metadata": {
        "execution": {
          "iopub.execute_input": "2022-10-21T16:33:06.966962Z",
          "iopub.status.busy": "2022-10-21T16:33:06.966467Z",
          "iopub.status.idle": "2022-10-21T16:33:06.976218Z",
          "shell.execute_reply": "2022-10-21T16:33:06.974844Z",
          "shell.execute_reply.started": "2022-10-21T16:33:06.966914Z"
        },
        "id": "J8LDFXLvM7pn",
        "trusted": true
      },
      "outputs": [
        {
          "data": {
            "text/plain": [
              "(10000, 5)"
            ]
          },
          "execution_count": 51,
          "metadata": {},
          "output_type": "execute_result"
        }
      ],
      "source": [
        "Default.shape"
      ]
    },
    {
      "cell_type": "code",
      "execution_count": 52,
      "metadata": {
        "execution": {
          "iopub.execute_input": "2022-10-21T16:33:06.978595Z",
          "iopub.status.busy": "2022-10-21T16:33:06.977676Z",
          "iopub.status.idle": "2022-10-21T16:33:07.006092Z",
          "shell.execute_reply": "2022-10-21T16:33:07.005247Z",
          "shell.execute_reply.started": "2022-10-21T16:33:06.978559Z"
        },
        "id": "AputmYL7M7po",
        "trusted": true
      },
      "outputs": [
        {
          "data": {
            "text/html": [
              "<div>\n",
              "<style scoped>\n",
              "    .dataframe tbody tr th:only-of-type {\n",
              "        vertical-align: middle;\n",
              "    }\n",
              "\n",
              "    .dataframe tbody tr th {\n",
              "        vertical-align: top;\n",
              "    }\n",
              "\n",
              "    .dataframe thead th {\n",
              "        text-align: right;\n",
              "    }\n",
              "</style>\n",
              "<table border=\"1\" class=\"dataframe\">\n",
              "  <thead>\n",
              "    <tr style=\"text-align: right;\">\n",
              "      <th></th>\n",
              "      <th>Unnamed: 0</th>\n",
              "      <th>balance</th>\n",
              "      <th>income</th>\n",
              "    </tr>\n",
              "  </thead>\n",
              "  <tbody>\n",
              "    <tr>\n",
              "      <th>count</th>\n",
              "      <td>10000.00000</td>\n",
              "      <td>10000.000000</td>\n",
              "      <td>10000.000000</td>\n",
              "    </tr>\n",
              "    <tr>\n",
              "      <th>mean</th>\n",
              "      <td>5000.50000</td>\n",
              "      <td>835.374886</td>\n",
              "      <td>33516.981876</td>\n",
              "    </tr>\n",
              "    <tr>\n",
              "      <th>std</th>\n",
              "      <td>2886.89568</td>\n",
              "      <td>483.714985</td>\n",
              "      <td>13336.639563</td>\n",
              "    </tr>\n",
              "    <tr>\n",
              "      <th>min</th>\n",
              "      <td>1.00000</td>\n",
              "      <td>0.000000</td>\n",
              "      <td>771.967729</td>\n",
              "    </tr>\n",
              "    <tr>\n",
              "      <th>25%</th>\n",
              "      <td>2500.75000</td>\n",
              "      <td>481.731105</td>\n",
              "      <td>21340.462903</td>\n",
              "    </tr>\n",
              "    <tr>\n",
              "      <th>50%</th>\n",
              "      <td>5000.50000</td>\n",
              "      <td>823.636973</td>\n",
              "      <td>34552.644802</td>\n",
              "    </tr>\n",
              "    <tr>\n",
              "      <th>75%</th>\n",
              "      <td>7500.25000</td>\n",
              "      <td>1166.308386</td>\n",
              "      <td>43807.729272</td>\n",
              "    </tr>\n",
              "    <tr>\n",
              "      <th>max</th>\n",
              "      <td>10000.00000</td>\n",
              "      <td>2654.322576</td>\n",
              "      <td>73554.233495</td>\n",
              "    </tr>\n",
              "  </tbody>\n",
              "</table>\n",
              "</div>"
            ],
            "text/plain": [
              "        Unnamed: 0       balance        income\n",
              "count  10000.00000  10000.000000  10000.000000\n",
              "mean    5000.50000    835.374886  33516.981876\n",
              "std     2886.89568    483.714985  13336.639563\n",
              "min        1.00000      0.000000    771.967729\n",
              "25%     2500.75000    481.731105  21340.462903\n",
              "50%     5000.50000    823.636973  34552.644802\n",
              "75%     7500.25000   1166.308386  43807.729272\n",
              "max    10000.00000   2654.322576  73554.233495"
            ]
          },
          "execution_count": 52,
          "metadata": {},
          "output_type": "execute_result"
        }
      ],
      "source": [
        "Default.describe()"
      ]
    },
    {
      "cell_type": "code",
      "execution_count": 53,
      "metadata": {
        "execution": {
          "iopub.execute_input": "2022-10-21T16:33:07.008664Z",
          "iopub.status.busy": "2022-10-21T16:33:07.00814Z",
          "iopub.status.idle": "2022-10-21T16:33:07.27791Z",
          "shell.execute_reply": "2022-10-21T16:33:07.277078Z",
          "shell.execute_reply.started": "2022-10-21T16:33:07.00863Z"
        },
        "id": "8ng97CvCM7po",
        "trusted": true
      },
      "outputs": [
        {
          "data": {
            "image/png": "[encoded data removed]",
            "text/plain": [
              "<Figure size 1500x500 with 2 Axes>"
            ]
          },
          "metadata": {},
          "output_type": "display_data"
        }
      ],
      "source": [
        "plt.figure(figsize = (15,5))\n",
        "plt.subplot(1,2,1)\n",
        "sns.boxplot(y=Default['balance'])\n",
        "\n",
        "plt.subplot(1,2,2)\n",
        "sns.boxplot(y=Default['income'])\n",
        "plt.show()"
      ]
    },
    {
      "cell_type": "code",
      "execution_count": 54,
      "metadata": {
        "execution": {
          "iopub.execute_input": "2022-10-21T16:33:07.279637Z",
          "iopub.status.busy": "2022-10-21T16:33:07.279256Z",
          "iopub.status.idle": "2022-10-21T16:33:07.748913Z",
          "shell.execute_reply": "2022-10-21T16:33:07.747681Z",
          "shell.execute_reply.started": "2022-10-21T16:33:07.279603Z"
        },
        "id": "OOum62liM7pp",
        "trusted": true
      },
      "outputs": [
        {
          "data": {
            "image/png": "[encoded data removed]",
            "text/plain": [
              "<Figure size 1500x500 with 2 Axes>"
            ]
          },
          "metadata": {},
          "output_type": "display_data"
        }
      ],
      "source": [
        "plt.figure(figsize = (15,5))\n",
        "plt.subplot(1,2,1)\n",
        "sns.countplot(Default['student'])\n",
        "\n",
        "plt.subplot(1,2,2)\n",
        "sns.countplot(Default['default'])\n",
        "plt.show()"
      ]
    },
    {
      "cell_type": "code",
      "execution_count": 55,
      "metadata": {
        "execution": {
          "iopub.execute_input": "2022-10-21T16:33:07.751573Z",
          "iopub.status.busy": "2022-10-21T16:33:07.750841Z",
          "iopub.status.idle": "2022-10-21T16:33:07.759178Z",
          "shell.execute_reply": "2022-10-21T16:33:07.758318Z",
          "shell.execute_reply.started": "2022-10-21T16:33:07.751536Z"
        },
        "id": "c_JgEOyKM7pp",
        "trusted": true
      },
      "outputs": [
        {
          "data": {
            "text/plain": [
              "student\n",
              "No     7056\n",
              "Yes    2944\n",
              "Name: count, dtype: int64"
            ]
          },
          "execution_count": 55,
          "metadata": {},
          "output_type": "execute_result"
        }
      ],
      "source": [
        "Default['student'].value_counts()"
      ]
    },
    {
      "cell_type": "code",
      "execution_count": 56,
      "metadata": {
        "execution": {
          "iopub.execute_input": "2022-10-21T16:33:07.760733Z",
          "iopub.status.busy": "2022-10-21T16:33:07.760394Z",
          "iopub.status.idle": "2022-10-21T16:33:07.774786Z",
          "shell.execute_reply": "2022-10-21T16:33:07.773993Z",
          "shell.execute_reply.started": "2022-10-21T16:33:07.760703Z"
        },
        "id": "6NEgjIFVM7pq",
        "trusted": true
      },
      "outputs": [
        {
          "data": {
            "text/plain": [
              "default\n",
              "No     9667\n",
              "Yes     333\n",
              "Name: count, dtype: int64"
            ]
          },
          "execution_count": 56,
          "metadata": {},
          "output_type": "execute_result"
        }
      ],
      "source": [
        "Default['default'].value_counts()"
      ]
    },
    {
      "cell_type": "code",
      "execution_count": 57,
      "metadata": {
        "execution": {
          "iopub.execute_input": "2022-10-21T16:33:07.77721Z",
          "iopub.status.busy": "2022-10-21T16:33:07.775903Z",
          "iopub.status.idle": "2022-10-21T16:33:07.789984Z",
          "shell.execute_reply": "2022-10-21T16:33:07.788862Z",
          "shell.execute_reply.started": "2022-10-21T16:33:07.777174Z"
        },
        "id": "rQ4aJxgEM7pq",
        "trusted": true
      },
      "outputs": [
        {
          "data": {
            "text/plain": [
              "student\n",
              "No     0.7056\n",
              "Yes    0.2944\n",
              "Name: proportion, dtype: float64"
            ]
          },
          "execution_count": 57,
          "metadata": {},
          "output_type": "execute_result"
        }
      ],
      "source": [
        "Default['student'].value_counts(normalize=True)"
      ]
    },
    {
      "cell_type": "code",
      "execution_count": 58,
      "metadata": {
        "execution": {
          "iopub.execute_input": "2022-10-21T16:33:07.792097Z",
          "iopub.status.busy": "2022-10-21T16:33:07.791763Z",
          "iopub.status.idle": "2022-10-21T16:33:07.805152Z",
          "shell.execute_reply": "2022-10-21T16:33:07.803874Z",
          "shell.execute_reply.started": "2022-10-21T16:33:07.792069Z"
        },
        "id": "q4ZkKmr5M7pq",
        "trusted": true
      },
      "outputs": [
        {
          "data": {
            "text/plain": [
              "default\n",
              "No     0.9667\n",
              "Yes    0.0333\n",
              "Name: proportion, dtype: float64"
            ]
          },
          "execution_count": 58,
          "metadata": {},
          "output_type": "execute_result"
        }
      ],
      "source": [
        "Default['default'].value_counts(normalize=True)"
      ]
    },
    {
      "cell_type": "code",
      "execution_count": 59,
      "metadata": {
        "execution": {
          "iopub.execute_input": "2022-10-21T16:33:07.810357Z",
          "iopub.status.busy": "2022-10-21T16:33:07.809784Z",
          "iopub.status.idle": "2022-10-21T16:33:08.126794Z",
          "shell.execute_reply": "2022-10-21T16:33:08.125514Z",
          "shell.execute_reply.started": "2022-10-21T16:33:07.810317Z"
        },
        "id": "CDdKC8xmM7pr",
        "trusted": true
      },
      "outputs": [
        {
          "data": {
            "image/png": "[encoded data removed]",
            "text/plain": [
              "<Figure size 1500x500 with 2 Axes>"
            ]
          },
          "metadata": {},
          "output_type": "display_data"
        }
      ],
      "source": [
        "plt.figure(figsize = (15,5))\n",
        "plt.subplot(1,2,1)\n",
        "sns.boxplot(x=Default['default'],y=Default['balance'])\n",
        "\n",
        "plt.subplot(1,2,2)\n",
        "sns.boxplot(x=Default['default'],y=Default['income'])\n",
        "plt.show()"
      ]
    },
    {
      "cell_type": "code",
      "execution_count": 60,
      "metadata": {
        "execution": {
          "iopub.execute_input": "2022-10-21T16:33:08.129164Z",
          "iopub.status.busy": "2022-10-21T16:33:08.128333Z",
          "iopub.status.idle": "2022-10-21T16:33:08.155747Z",
          "shell.execute_reply": "2022-10-21T16:33:08.154465Z",
          "shell.execute_reply.started": "2022-10-21T16:33:08.129123Z"
        },
        "id": "-vSFORpDM7pr",
        "trusted": true
      },
      "outputs": [
        {
          "data": {
            "text/html": [
              "<div>\n",
              "<style scoped>\n",
              "    .dataframe tbody tr th:only-of-type {\n",
              "        vertical-align: middle;\n",
              "    }\n",
              "\n",
              "    .dataframe tbody tr th {\n",
              "        vertical-align: top;\n",
              "    }\n",
              "\n",
              "    .dataframe thead th {\n",
              "        text-align: right;\n",
              "    }\n",
              "</style>\n",
              "<table border=\"1\" class=\"dataframe\">\n",
              "  <thead>\n",
              "    <tr style=\"text-align: right;\">\n",
              "      <th>default</th>\n",
              "      <th>No</th>\n",
              "      <th>Yes</th>\n",
              "    </tr>\n",
              "    <tr>\n",
              "      <th>student</th>\n",
              "      <th></th>\n",
              "      <th></th>\n",
              "    </tr>\n",
              "  </thead>\n",
              "  <tbody>\n",
              "    <tr>\n",
              "      <th>No</th>\n",
              "      <td>0.97</td>\n",
              "      <td>0.03</td>\n",
              "    </tr>\n",
              "    <tr>\n",
              "      <th>Yes</th>\n",
              "      <td>0.96</td>\n",
              "      <td>0.04</td>\n",
              "    </tr>\n",
              "  </tbody>\n",
              "</table>\n",
              "</div>"
            ],
            "text/plain": [
              "default    No   Yes\n",
              "student            \n",
              "No       0.97  0.03\n",
              "Yes      0.96  0.04"
            ]
          },
          "execution_count": 60,
          "metadata": {},
          "output_type": "execute_result"
        }
      ],
      "source": [
        "pd.crosstab(Default['student'],Default['default'],normalize = 'index').round(2)"
      ]
    },
    {
      "cell_type": "code",
      "execution_count": 61,
      "metadata": {
        "execution": {
          "iopub.execute_input": "2022-10-21T16:33:08.158494Z",
          "iopub.status.busy": "2022-10-21T16:33:08.157417Z",
          "iopub.status.idle": "2022-10-21T16:33:08.388262Z",
          "shell.execute_reply": "2022-10-21T16:33:08.387496Z",
          "shell.execute_reply.started": "2022-10-21T16:33:08.158416Z"
        },
        "id": "y247w6iFM7pr",
        "trusted": true
      },
      "outputs": [
        {
          "data": {
            "image/png": "[encoded data removed]",
            "text/plain": [
              "<Figure size 640x480 with 2 Axes>"
            ]
          },
          "metadata": {},
          "output_type": "display_data"
        }
      ],
      "source": [
        "sns.heatmap(Default[['balance','income']].corr(),annot = True)\n",
        "plt.show()"
      ]
    },
    {
      "cell_type": "code",
      "execution_count": 62,
      "metadata": {
        "execution": {
          "iopub.execute_input": "2022-10-21T16:33:08.390482Z",
          "iopub.status.busy": "2022-10-21T16:33:08.389348Z",
          "iopub.status.idle": "2022-10-21T16:33:08.403175Z",
          "shell.execute_reply": "2022-10-21T16:33:08.401878Z",
          "shell.execute_reply.started": "2022-10-21T16:33:08.390417Z"
        },
        "id": "_sGUUG8rM7pr",
        "trusted": true
      },
      "outputs": [
        {
          "data": {
            "text/plain": [
              "Unnamed: 0    0\n",
              "default       0\n",
              "student       0\n",
              "balance       0\n",
              "income        0\n",
              "dtype: int64"
            ]
          },
          "execution_count": 62,
          "metadata": {},
          "output_type": "execute_result"
        }
      ],
      "source": [
        "Default.isnull().sum()"
      ]
    },
    {
      "cell_type": "code",
      "execution_count": 63,
      "metadata": {
        "execution": {
          "iopub.execute_input": "2022-10-21T16:33:08.405417Z",
          "iopub.status.busy": "2022-10-21T16:33:08.404907Z",
          "iopub.status.idle": "2022-10-21T16:33:08.416652Z",
          "shell.execute_reply": "2022-10-21T16:33:08.414501Z",
          "shell.execute_reply.started": "2022-10-21T16:33:08.405369Z"
        },
        "id": "UkUMSujAM7pr",
        "trusted": true
      },
      "outputs": [],
      "source": [
        "Q1, Q3 = Default['balance'].quantile([.25,.75])\n",
        "IQR = Q3-Q1\n",
        "LL = Q1 - 1.5*(IQR)\n",
        "UL = Q3 + 1.5*(IQR)"
      ]
    },
    {
      "cell_type": "code",
      "execution_count": 64,
      "metadata": {
        "execution": {
          "iopub.execute_input": "2022-10-21T16:33:08.419843Z",
          "iopub.status.busy": "2022-10-21T16:33:08.41861Z",
          "iopub.status.idle": "2022-10-21T16:33:08.431069Z",
          "shell.execute_reply": "2022-10-21T16:33:08.429699Z",
          "shell.execute_reply.started": "2022-10-21T16:33:08.419784Z"
        },
        "id": "udf2wWGpM7pr",
        "trusted": true
      },
      "outputs": [
        {
          "data": {
            "text/plain": [
              "2193.174308607817"
            ]
          },
          "execution_count": 64,
          "metadata": {},
          "output_type": "execute_result"
        }
      ],
      "source": [
        "UL"
      ]
    },
    {
      "cell_type": "code",
      "execution_count": 65,
      "metadata": {
        "execution": {
          "iopub.execute_input": "2022-10-21T16:33:08.433074Z",
          "iopub.status.busy": "2022-10-21T16:33:08.432617Z",
          "iopub.status.idle": "2022-10-21T16:33:08.455295Z",
          "shell.execute_reply": "2022-10-21T16:33:08.453317Z",
          "shell.execute_reply.started": "2022-10-21T16:33:08.43303Z"
        },
        "id": "tnmhv_aEM7ps",
        "trusted": true
      },
      "outputs": [
        {
          "data": {
            "text/html": [
              "<div>\n",
              "<style scoped>\n",
              "    .dataframe tbody tr th:only-of-type {\n",
              "        vertical-align: middle;\n",
              "    }\n",
              "\n",
              "    .dataframe tbody tr th {\n",
              "        vertical-align: top;\n",
              "    }\n",
              "\n",
              "    .dataframe thead th {\n",
              "        text-align: right;\n",
              "    }\n",
              "</style>\n",
              "<table border=\"1\" class=\"dataframe\">\n",
              "  <thead>\n",
              "    <tr style=\"text-align: right;\">\n",
              "      <th></th>\n",
              "      <th>Unnamed: 0</th>\n",
              "      <th>default</th>\n",
              "      <th>student</th>\n",
              "      <th>balance</th>\n",
              "      <th>income</th>\n",
              "    </tr>\n",
              "  </thead>\n",
              "  <tbody>\n",
              "    <tr>\n",
              "      <th>173</th>\n",
              "      <td>174</td>\n",
              "      <td>Yes</td>\n",
              "      <td>Yes</td>\n",
              "      <td>2205.799521</td>\n",
              "      <td>14271.492253</td>\n",
              "    </tr>\n",
              "    <tr>\n",
              "      <th>1136</th>\n",
              "      <td>1137</td>\n",
              "      <td>Yes</td>\n",
              "      <td>No</td>\n",
              "      <td>2499.016750</td>\n",
              "      <td>51504.293960</td>\n",
              "    </tr>\n",
              "    <tr>\n",
              "      <th>1160</th>\n",
              "      <td>1161</td>\n",
              "      <td>Yes</td>\n",
              "      <td>Yes</td>\n",
              "      <td>2502.684931</td>\n",
              "      <td>14947.519752</td>\n",
              "    </tr>\n",
              "    <tr>\n",
              "      <th>1359</th>\n",
              "      <td>1360</td>\n",
              "      <td>Yes</td>\n",
              "      <td>No</td>\n",
              "      <td>2220.966201</td>\n",
              "      <td>40725.096207</td>\n",
              "    </tr>\n",
              "    <tr>\n",
              "      <th>1502</th>\n",
              "      <td>1503</td>\n",
              "      <td>Yes</td>\n",
              "      <td>Yes</td>\n",
              "      <td>2332.878254</td>\n",
              "      <td>11770.234124</td>\n",
              "    </tr>\n",
              "    <tr>\n",
              "      <th>1609</th>\n",
              "      <td>1610</td>\n",
              "      <td>Yes</td>\n",
              "      <td>Yes</td>\n",
              "      <td>2269.946966</td>\n",
              "      <td>18021.105948</td>\n",
              "    </tr>\n",
              "    <tr>\n",
              "      <th>2096</th>\n",
              "      <td>2097</td>\n",
              "      <td>Yes</td>\n",
              "      <td>Yes</td>\n",
              "      <td>2261.848162</td>\n",
              "      <td>20030.165119</td>\n",
              "    </tr>\n",
              "    <tr>\n",
              "      <th>2140</th>\n",
              "      <td>2141</td>\n",
              "      <td>No</td>\n",
              "      <td>Yes</td>\n",
              "      <td>2308.893236</td>\n",
              "      <td>19110.266412</td>\n",
              "    </tr>\n",
              "    <tr>\n",
              "      <th>2929</th>\n",
              "      <td>2930</td>\n",
              "      <td>Yes</td>\n",
              "      <td>Yes</td>\n",
              "      <td>2387.314867</td>\n",
              "      <td>28296.914718</td>\n",
              "    </tr>\n",
              "    <tr>\n",
              "      <th>3162</th>\n",
              "      <td>3163</td>\n",
              "      <td>Yes</td>\n",
              "      <td>Yes</td>\n",
              "      <td>2415.316994</td>\n",
              "      <td>17429.503375</td>\n",
              "    </tr>\n",
              "    <tr>\n",
              "      <th>3189</th>\n",
              "      <td>3190</td>\n",
              "      <td>Yes</td>\n",
              "      <td>No</td>\n",
              "      <td>2228.472283</td>\n",
              "      <td>27438.348988</td>\n",
              "    </tr>\n",
              "    <tr>\n",
              "      <th>3702</th>\n",
              "      <td>3703</td>\n",
              "      <td>No</td>\n",
              "      <td>Yes</td>\n",
              "      <td>2370.463612</td>\n",
              "      <td>24251.958722</td>\n",
              "    </tr>\n",
              "    <tr>\n",
              "      <th>3855</th>\n",
              "      <td>3856</td>\n",
              "      <td>Yes</td>\n",
              "      <td>Yes</td>\n",
              "      <td>2321.882221</td>\n",
              "      <td>21331.314781</td>\n",
              "    </tr>\n",
              "    <tr>\n",
              "      <th>3913</th>\n",
              "      <td>3914</td>\n",
              "      <td>Yes</td>\n",
              "      <td>Yes</td>\n",
              "      <td>2334.123559</td>\n",
              "      <td>19335.889287</td>\n",
              "    </tr>\n",
              "    <tr>\n",
              "      <th>3976</th>\n",
              "      <td>3977</td>\n",
              "      <td>No</td>\n",
              "      <td>Yes</td>\n",
              "      <td>2388.174009</td>\n",
              "      <td>7832.135644</td>\n",
              "    </tr>\n",
              "    <tr>\n",
              "      <th>4060</th>\n",
              "      <td>4061</td>\n",
              "      <td>Yes</td>\n",
              "      <td>Yes</td>\n",
              "      <td>2216.017669</td>\n",
              "      <td>20911.695635</td>\n",
              "    </tr>\n",
              "    <tr>\n",
              "      <th>4231</th>\n",
              "      <td>4232</td>\n",
              "      <td>Yes</td>\n",
              "      <td>Yes</td>\n",
              "      <td>2291.617688</td>\n",
              "      <td>20837.209447</td>\n",
              "    </tr>\n",
              "    <tr>\n",
              "      <th>4831</th>\n",
              "      <td>4832</td>\n",
              "      <td>No</td>\n",
              "      <td>Yes</td>\n",
              "      <td>2216.329753</td>\n",
              "      <td>24737.081761</td>\n",
              "    </tr>\n",
              "    <tr>\n",
              "      <th>5461</th>\n",
              "      <td>5462</td>\n",
              "      <td>Yes</td>\n",
              "      <td>Yes</td>\n",
              "      <td>2247.421889</td>\n",
              "      <td>17926.723014</td>\n",
              "    </tr>\n",
              "    <tr>\n",
              "      <th>6075</th>\n",
              "      <td>6076</td>\n",
              "      <td>Yes</td>\n",
              "      <td>No</td>\n",
              "      <td>2413.319449</td>\n",
              "      <td>38540.572705</td>\n",
              "    </tr>\n",
              "    <tr>\n",
              "      <th>6334</th>\n",
              "      <td>6335</td>\n",
              "      <td>Yes</td>\n",
              "      <td>No</td>\n",
              "      <td>2343.797513</td>\n",
              "      <td>51095.293929</td>\n",
              "    </tr>\n",
              "    <tr>\n",
              "      <th>6882</th>\n",
              "      <td>6883</td>\n",
              "      <td>Yes</td>\n",
              "      <td>Yes</td>\n",
              "      <td>2287.173842</td>\n",
              "      <td>18692.144311</td>\n",
              "    </tr>\n",
              "    <tr>\n",
              "      <th>7437</th>\n",
              "      <td>7438</td>\n",
              "      <td>Yes</td>\n",
              "      <td>Yes</td>\n",
              "      <td>2461.506979</td>\n",
              "      <td>11878.557045</td>\n",
              "    </tr>\n",
              "    <tr>\n",
              "      <th>7815</th>\n",
              "      <td>7816</td>\n",
              "      <td>Yes</td>\n",
              "      <td>Yes</td>\n",
              "      <td>2578.469022</td>\n",
              "      <td>25706.647774</td>\n",
              "    </tr>\n",
              "    <tr>\n",
              "      <th>8264</th>\n",
              "      <td>8265</td>\n",
              "      <td>Yes</td>\n",
              "      <td>No</td>\n",
              "      <td>2236.764215</td>\n",
              "      <td>37113.883070</td>\n",
              "    </tr>\n",
              "    <tr>\n",
              "      <th>8495</th>\n",
              "      <td>8496</td>\n",
              "      <td>Yes</td>\n",
              "      <td>Yes</td>\n",
              "      <td>2654.322576</td>\n",
              "      <td>21930.388879</td>\n",
              "    </tr>\n",
              "    <tr>\n",
              "      <th>8832</th>\n",
              "      <td>8833</td>\n",
              "      <td>Yes</td>\n",
              "      <td>Yes</td>\n",
              "      <td>2207.599054</td>\n",
              "      <td>19780.763519</td>\n",
              "    </tr>\n",
              "    <tr>\n",
              "      <th>8992</th>\n",
              "      <td>8993</td>\n",
              "      <td>Yes</td>\n",
              "      <td>Yes</td>\n",
              "      <td>2352.054949</td>\n",
              "      <td>24067.548104</td>\n",
              "    </tr>\n",
              "    <tr>\n",
              "      <th>9873</th>\n",
              "      <td>9874</td>\n",
              "      <td>No</td>\n",
              "      <td>No</td>\n",
              "      <td>2391.007739</td>\n",
              "      <td>50302.909557</td>\n",
              "    </tr>\n",
              "    <tr>\n",
              "      <th>9893</th>\n",
              "      <td>9894</td>\n",
              "      <td>Yes</td>\n",
              "      <td>No</td>\n",
              "      <td>2288.408082</td>\n",
              "      <td>52043.569052</td>\n",
              "    </tr>\n",
              "    <tr>\n",
              "      <th>9978</th>\n",
              "      <td>9979</td>\n",
              "      <td>Yes</td>\n",
              "      <td>No</td>\n",
              "      <td>2202.462395</td>\n",
              "      <td>47287.257108</td>\n",
              "    </tr>\n",
              "  </tbody>\n",
              "</table>\n",
              "</div>"
            ],
            "text/plain": [
              "      Unnamed: 0 default student      balance        income\n",
              "173          174     Yes     Yes  2205.799521  14271.492253\n",
              "1136        1137     Yes      No  2499.016750  51504.293960\n",
              "1160        1161     Yes     Yes  2502.684931  14947.519752\n",
              "1359        1360     Yes      No  2220.966201  40725.096207\n",
              "1502        1503     Yes     Yes  2332.878254  11770.234124\n",
              "1609        1610     Yes     Yes  2269.946966  18021.105948\n",
              "2096        2097     Yes     Yes  2261.848162  20030.165119\n",
              "2140        2141      No     Yes  2308.893236  19110.266412\n",
              "2929        2930     Yes     Yes  2387.314867  28296.914718\n",
              "3162        3163     Yes     Yes  2415.316994  17429.503375\n",
              "3189        3190     Yes      No  2228.472283  27438.348988\n",
              "3702        3703      No     Yes  2370.463612  24251.958722\n",
              "3855        3856     Yes     Yes  2321.882221  21331.314781\n",
              "3913        3914     Yes     Yes  2334.123559  19335.889287\n",
              "3976        3977      No     Yes  2388.174009   7832.135644\n",
              "4060        4061     Yes     Yes  2216.017669  20911.695635\n",
              "4231        4232     Yes     Yes  2291.617688  20837.209447\n",
              "4831        4832      No     Yes  2216.329753  24737.081761\n",
              "5461        5462     Yes     Yes  2247.421889  17926.723014\n",
              "6075        6076     Yes      No  2413.319449  38540.572705\n",
              "6334        6335     Yes      No  2343.797513  51095.293929\n",
              "6882        6883     Yes     Yes  2287.173842  18692.144311\n",
              "7437        7438     Yes     Yes  2461.506979  11878.557045\n",
              "7815        7816     Yes     Yes  2578.469022  25706.647774\n",
              "8264        8265     Yes      No  2236.764215  37113.883070\n",
              "8495        8496     Yes     Yes  2654.322576  21930.388879\n",
              "8832        8833     Yes     Yes  2207.599054  19780.763519\n",
              "8992        8993     Yes     Yes  2352.054949  24067.548104\n",
              "9873        9874      No      No  2391.007739  50302.909557\n",
              "9893        9894     Yes      No  2288.408082  52043.569052\n",
              "9978        9979     Yes      No  2202.462395  47287.257108"
            ]
          },
          "execution_count": 65,
          "metadata": {},
          "output_type": "execute_result"
        }
      ],
      "source": [
        "df = Default[Default['balance'] > UL]\n",
        "df"
      ]
    },
    {
      "cell_type": "code",
      "execution_count": 66,
      "metadata": {
        "execution": {
          "iopub.execute_input": "2022-10-21T16:33:08.457424Z",
          "iopub.status.busy": "2022-10-21T16:33:08.456945Z",
          "iopub.status.idle": "2022-10-21T16:33:08.469853Z",
          "shell.execute_reply": "2022-10-21T16:33:08.468501Z",
          "shell.execute_reply.started": "2022-10-21T16:33:08.457378Z"
        },
        "id": "Zzl1WXEmM7ps",
        "trusted": true
      },
      "outputs": [
        {
          "data": {
            "text/plain": [
              "np.int64(31)"
            ]
          },
          "execution_count": 66,
          "metadata": {},
          "output_type": "execute_result"
        }
      ],
      "source": [
        "df['default'].count()"
      ]
    },
    {
      "cell_type": "code",
      "execution_count": 67,
      "metadata": {
        "execution": {
          "iopub.execute_input": "2022-10-21T16:33:08.471642Z",
          "iopub.status.busy": "2022-10-21T16:33:08.471282Z",
          "iopub.status.idle": "2022-10-21T16:33:08.483492Z",
          "shell.execute_reply": "2022-10-21T16:33:08.482696Z",
          "shell.execute_reply.started": "2022-10-21T16:33:08.471612Z"
        },
        "id": "2shWlqIAM7ps",
        "trusted": true
      },
      "outputs": [
        {
          "data": {
            "text/plain": [
              "default\n",
              "Yes    0.83871\n",
              "No     0.16129\n",
              "Name: proportion, dtype: float64"
            ]
          },
          "execution_count": 67,
          "metadata": {},
          "output_type": "execute_result"
        }
      ],
      "source": [
        "df['default'].value_counts(normalize=True)"
      ]
    },
    {
      "cell_type": "code",
      "execution_count": 68,
      "metadata": {
        "execution": {
          "iopub.execute_input": "2022-10-21T16:33:08.485336Z",
          "iopub.status.busy": "2022-10-21T16:33:08.484505Z",
          "iopub.status.idle": "2022-10-21T16:33:08.496598Z",
          "shell.execute_reply": "2022-10-21T16:33:08.495657Z",
          "shell.execute_reply.started": "2022-10-21T16:33:08.485296Z"
        },
        "id": "A1nNgIWVM7ps",
        "trusted": true
      },
      "outputs": [
        {
          "data": {
            "text/plain": [
              "default\n",
              "Yes    26\n",
              "No      5\n",
              "Name: count, dtype: int64"
            ]
          },
          "execution_count": 68,
          "metadata": {},
          "output_type": "execute_result"
        }
      ],
      "source": [
        "df['default'].value_counts()"
      ]
    },
    {
      "cell_type": "code",
      "execution_count": 69,
      "metadata": {
        "execution": {
          "iopub.execute_input": "2022-10-21T16:33:08.498625Z",
          "iopub.status.busy": "2022-10-21T16:33:08.497726Z",
          "iopub.status.idle": "2022-10-21T16:33:08.508129Z",
          "shell.execute_reply": "2022-10-21T16:33:08.507144Z",
          "shell.execute_reply.started": "2022-10-21T16:33:08.498587Z"
        },
        "id": "Qa0lAyN0M7ps",
        "trusted": true
      },
      "outputs": [],
      "source": [
        "Default['balance'] = np.where(Default['balance'] > UL, UL, Default['balance'])"
      ]
    },
    {
      "cell_type": "code",
      "execution_count": 70,
      "metadata": {
        "execution": {
          "iopub.execute_input": "2022-10-21T16:33:08.509923Z",
          "iopub.status.busy": "2022-10-21T16:33:08.509417Z",
          "iopub.status.idle": "2022-10-21T16:33:08.674819Z",
          "shell.execute_reply": "2022-10-21T16:33:08.673839Z",
          "shell.execute_reply.started": "2022-10-21T16:33:08.509891Z"
        },
        "id": "tdOc1PUmM7ps",
        "trusted": true
      },
      "outputs": [
        {
          "data": {
            "image/png": "[encoded data removed]",
            "text/plain": [
              "<Figure size 640x480 with 1 Axes>"
            ]
          },
          "metadata": {},
          "output_type": "display_data"
        }
      ],
      "source": [
        "sns.boxplot(y=Default['balance'])\n",
        "plt.show()"
      ]
    },
    {
      "cell_type": "code",
      "execution_count": 71,
      "metadata": {
        "execution": {
          "iopub.execute_input": "2022-10-21T16:33:08.67648Z",
          "iopub.status.busy": "2022-10-21T16:33:08.676135Z",
          "iopub.status.idle": "2022-10-21T16:33:08.688255Z",
          "shell.execute_reply": "2022-10-21T16:33:08.687412Z",
          "shell.execute_reply.started": "2022-10-21T16:33:08.676423Z"
        },
        "id": "4bb7LAUhM7ps",
        "trusted": true
      },
      "outputs": [],
      "source": [
        "Default = pd.get_dummies(Default,drop_first = True)"
      ]
    },
    {
      "cell_type": "code",
      "execution_count": 72,
      "metadata": {
        "execution": {
          "iopub.execute_input": "2022-10-21T16:33:08.690331Z",
          "iopub.status.busy": "2022-10-21T16:33:08.689273Z",
          "iopub.status.idle": "2022-10-21T16:33:08.70746Z",
          "shell.execute_reply": "2022-10-21T16:33:08.706036Z",
          "shell.execute_reply.started": "2022-10-21T16:33:08.690294Z"
        },
        "id": "7gP2jSpSM7pt",
        "scrolled": true,
        "trusted": true
      },
      "outputs": [
        {
          "data": {
            "text/html": [
              "<div>\n",
              "<style scoped>\n",
              "    .dataframe tbody tr th:only-of-type {\n",
              "        vertical-align: middle;\n",
              "    }\n",
              "\n",
              "    .dataframe tbody tr th {\n",
              "        vertical-align: top;\n",
              "    }\n",
              "\n",
              "    .dataframe thead th {\n",
              "        text-align: right;\n",
              "    }\n",
              "</style>\n",
              "<table border=\"1\" class=\"dataframe\">\n",
              "  <thead>\n",
              "    <tr style=\"text-align: right;\">\n",
              "      <th></th>\n",
              "      <th>Unnamed: 0</th>\n",
              "      <th>balance</th>\n",
              "      <th>income</th>\n",
              "      <th>default_Yes</th>\n",
              "      <th>student_Yes</th>\n",
              "    </tr>\n",
              "  </thead>\n",
              "  <tbody>\n",
              "    <tr>\n",
              "      <th>0</th>\n",
              "      <td>1</td>\n",
              "      <td>729.526495</td>\n",
              "      <td>44361.625074</td>\n",
              "      <td>False</td>\n",
              "      <td>False</td>\n",
              "    </tr>\n",
              "    <tr>\n",
              "      <th>1</th>\n",
              "      <td>2</td>\n",
              "      <td>817.180407</td>\n",
              "      <td>12106.134700</td>\n",
              "      <td>False</td>\n",
              "      <td>True</td>\n",
              "    </tr>\n",
              "    <tr>\n",
              "      <th>2</th>\n",
              "      <td>3</td>\n",
              "      <td>1073.549164</td>\n",
              "      <td>31767.138947</td>\n",
              "      <td>False</td>\n",
              "      <td>False</td>\n",
              "    </tr>\n",
              "    <tr>\n",
              "      <th>3</th>\n",
              "      <td>4</td>\n",
              "      <td>529.250605</td>\n",
              "      <td>35704.493935</td>\n",
              "      <td>False</td>\n",
              "      <td>False</td>\n",
              "    </tr>\n",
              "    <tr>\n",
              "      <th>4</th>\n",
              "      <td>5</td>\n",
              "      <td>785.655883</td>\n",
              "      <td>38463.495879</td>\n",
              "      <td>False</td>\n",
              "      <td>False</td>\n",
              "    </tr>\n",
              "  </tbody>\n",
              "</table>\n",
              "</div>"
            ],
            "text/plain": [
              "   Unnamed: 0      balance        income  default_Yes  student_Yes\n",
              "0           1   729.526495  44361.625074        False        False\n",
              "1           2   817.180407  12106.134700        False         True\n",
              "2           3  1073.549164  31767.138947        False        False\n",
              "3           4   529.250605  35704.493935        False        False\n",
              "4           5   785.655883  38463.495879        False        False"
            ]
          },
          "execution_count": 72,
          "metadata": {},
          "output_type": "execute_result"
        }
      ],
      "source": [
        "Default.head()"
      ]
    },
    {
      "cell_type": "code",
      "execution_count": 73,
      "metadata": {
        "execution": {
          "iopub.execute_input": "2022-10-21T16:33:08.709476Z",
          "iopub.status.busy": "2022-10-21T16:33:08.709075Z",
          "iopub.status.idle": "2022-10-21T16:33:08.721695Z",
          "shell.execute_reply": "2022-10-21T16:33:08.720134Z",
          "shell.execute_reply.started": "2022-10-21T16:33:08.709413Z"
        },
        "id": "Cunp3-X7M7pt",
        "trusted": true
      },
      "outputs": [],
      "source": [
        "Default.columns = ['Unnamed','balance','income','default','student']"
      ]
    },
    {
      "cell_type": "code",
      "execution_count": 74,
      "metadata": {
        "execution": {
          "iopub.execute_input": "2022-10-21T16:33:08.723806Z",
          "iopub.status.busy": "2022-10-21T16:33:08.723402Z",
          "iopub.status.idle": "2022-10-21T16:33:08.742641Z",
          "shell.execute_reply": "2022-10-21T16:33:08.741473Z",
          "shell.execute_reply.started": "2022-10-21T16:33:08.723771Z"
        },
        "id": "i0irSYC9M7pt",
        "trusted": true
      },
      "outputs": [
        {
          "data": {
            "text/html": [
              "<div>\n",
              "<style scoped>\n",
              "    .dataframe tbody tr th:only-of-type {\n",
              "        vertical-align: middle;\n",
              "    }\n",
              "\n",
              "    .dataframe tbody tr th {\n",
              "        vertical-align: top;\n",
              "    }\n",
              "\n",
              "    .dataframe thead th {\n",
              "        text-align: right;\n",
              "    }\n",
              "</style>\n",
              "<table border=\"1\" class=\"dataframe\">\n",
              "  <thead>\n",
              "    <tr style=\"text-align: right;\">\n",
              "      <th></th>\n",
              "      <th>Unnamed</th>\n",
              "      <th>balance</th>\n",
              "      <th>income</th>\n",
              "      <th>default</th>\n",
              "      <th>student</th>\n",
              "    </tr>\n",
              "  </thead>\n",
              "  <tbody>\n",
              "    <tr>\n",
              "      <th>0</th>\n",
              "      <td>1</td>\n",
              "      <td>729.526495</td>\n",
              "      <td>44361.625074</td>\n",
              "      <td>False</td>\n",
              "      <td>False</td>\n",
              "    </tr>\n",
              "    <tr>\n",
              "      <th>1</th>\n",
              "      <td>2</td>\n",
              "      <td>817.180407</td>\n",
              "      <td>12106.134700</td>\n",
              "      <td>False</td>\n",
              "      <td>True</td>\n",
              "    </tr>\n",
              "    <tr>\n",
              "      <th>2</th>\n",
              "      <td>3</td>\n",
              "      <td>1073.549164</td>\n",
              "      <td>31767.138947</td>\n",
              "      <td>False</td>\n",
              "      <td>False</td>\n",
              "    </tr>\n",
              "    <tr>\n",
              "      <th>3</th>\n",
              "      <td>4</td>\n",
              "      <td>529.250605</td>\n",
              "      <td>35704.493935</td>\n",
              "      <td>False</td>\n",
              "      <td>False</td>\n",
              "    </tr>\n",
              "    <tr>\n",
              "      <th>4</th>\n",
              "      <td>5</td>\n",
              "      <td>785.655883</td>\n",
              "      <td>38463.495879</td>\n",
              "      <td>False</td>\n",
              "      <td>False</td>\n",
              "    </tr>\n",
              "  </tbody>\n",
              "</table>\n",
              "</div>"
            ],
            "text/plain": [
              "   Unnamed      balance        income  default  student\n",
              "0        1   729.526495  44361.625074    False    False\n",
              "1        2   817.180407  12106.134700    False     True\n",
              "2        3  1073.549164  31767.138947    False    False\n",
              "3        4   529.250605  35704.493935    False    False\n",
              "4        5   785.655883  38463.495879    False    False"
            ]
          },
          "execution_count": 74,
          "metadata": {},
          "output_type": "execute_result"
        }
      ],
      "source": [
        "Default.head()"
      ]
    },
    {
      "cell_type": "code",
      "execution_count": 75,
      "metadata": {
        "execution": {
          "iopub.execute_input": "2022-10-21T16:33:08.744017Z",
          "iopub.status.busy": "2022-10-21T16:33:08.743647Z",
          "iopub.status.idle": "2022-10-21T16:33:08.753334Z",
          "shell.execute_reply": "2022-10-21T16:33:08.752121Z",
          "shell.execute_reply.started": "2022-10-21T16:33:08.743981Z"
        },
        "id": "w1m6Y5SFM7pt",
        "trusted": true
      },
      "outputs": [],
      "source": [
        "from sklearn.model_selection import train_test_split"
      ]
    },
    {
      "cell_type": "code",
      "execution_count": 76,
      "metadata": {
        "execution": {
          "iopub.execute_input": "2022-10-21T16:33:08.760062Z",
          "iopub.status.busy": "2022-10-21T16:33:08.759692Z",
          "iopub.status.idle": "2022-10-21T16:33:08.766628Z",
          "shell.execute_reply": "2022-10-21T16:33:08.765666Z",
          "shell.execute_reply.started": "2022-10-21T16:33:08.760026Z"
        },
        "id": "mNrmN2CiM7pt",
        "trusted": true
      },
      "outputs": [],
      "source": [
        "x = Default.drop('default',axis=1)\n",
        "y = Default['default']"
      ]
    },
    {
      "cell_type": "code",
      "execution_count": 77,
      "metadata": {
        "execution": {
          "iopub.execute_input": "2022-10-21T16:33:08.768599Z",
          "iopub.status.busy": "2022-10-21T16:33:08.76781Z",
          "iopub.status.idle": "2022-10-21T16:33:08.785627Z",
          "shell.execute_reply": "2022-10-21T16:33:08.784286Z",
          "shell.execute_reply.started": "2022-10-21T16:33:08.768535Z"
        },
        "id": "xnGizBIxM7pt",
        "trusted": true
      },
      "outputs": [],
      "source": [
        "x_train,x_test,y_train,y_test = train_test_split(x,y,test_size = 0.3,random_state = 21,stratify = y)"
      ]
    },
    {
      "cell_type": "code",
      "execution_count": 78,
      "metadata": {
        "execution": {
          "iopub.execute_input": "2022-10-21T16:33:08.787962Z",
          "iopub.status.busy": "2022-10-21T16:33:08.78745Z",
          "iopub.status.idle": "2022-10-21T16:33:08.795636Z",
          "shell.execute_reply": "2022-10-21T16:33:08.794514Z",
          "shell.execute_reply.started": "2022-10-21T16:33:08.787913Z"
        },
        "id": "5JYVDA_GM7pu",
        "trusted": true
      },
      "outputs": [
        {
          "name": "stdout",
          "output_type": "stream",
          "text": [
            "(7000, 4)\n",
            "(3000, 4)\n"
          ]
        }
      ],
      "source": [
        "print(x_train.shape)\n",
        "print(x_test.shape)"
      ]
    },
    {
      "cell_type": "code",
      "execution_count": 79,
      "metadata": {
        "execution": {
          "iopub.execute_input": "2022-10-21T16:33:08.797733Z",
          "iopub.status.busy": "2022-10-21T16:33:08.797037Z",
          "iopub.status.idle": "2022-10-21T16:33:08.819489Z",
          "shell.execute_reply": "2022-10-21T16:33:08.818469Z",
          "shell.execute_reply.started": "2022-10-21T16:33:08.797685Z"
        },
        "id": "YGJ5xD9UM7pu",
        "trusted": true
      },
      "outputs": [
        {
          "name": "stdout",
          "output_type": "stream",
          "text": [
            "default\n",
            "False    0.97\n",
            "True     0.03\n",
            "Name: proportion, dtype: float64\n",
            " \n",
            "default\n",
            "False    0.97\n",
            "True     0.03\n",
            "Name: proportion, dtype: float64\n"
          ]
        }
      ],
      "source": [
        "print(y_train.value_counts(normalize = True).round(2))\n",
        "print(' ')\n",
        "print(y_test.value_counts(normalize = True).round(2))"
      ]
    },
    {
      "cell_type": "code",
      "execution_count": 80,
      "metadata": {
        "execution": {
          "iopub.execute_input": "2022-10-21T16:33:08.821752Z",
          "iopub.status.busy": "2022-10-21T16:33:08.821143Z",
          "iopub.status.idle": "2022-10-21T16:33:08.839668Z",
          "shell.execute_reply": "2022-10-21T16:33:08.838543Z",
          "shell.execute_reply.started": "2022-10-21T16:33:08.821716Z"
        },
        "id": "rhuG7lyoM7pu",
        "scrolled": true,
        "trusted": true
      },
      "outputs": [],
      "source": [
        "from imblearn.over_sampling import SMOTE\n",
        "sm = SMOTE(random_state=33, sampling_strategy=0.75)\n",
        "x_res, y_res = sm.fit_resample(x_train,y_train)"
      ]
    },
    {
      "cell_type": "code",
      "execution_count": 81,
      "metadata": {
        "execution": {
          "iopub.execute_input": "2022-10-21T16:33:08.841781Z",
          "iopub.status.busy": "2022-10-21T16:33:08.841202Z",
          "iopub.status.idle": "2022-10-21T16:33:08.84574Z",
          "shell.execute_reply": "2022-10-21T16:33:08.844872Z",
          "shell.execute_reply.started": "2022-10-21T16:33:08.841747Z"
        },
        "id": "rQlTEaHhM7pu",
        "trusted": true
      },
      "outputs": [],
      "source": [
        "from sklearn.linear_model import LogisticRegression"
      ]
    },
    {
      "cell_type": "code",
      "execution_count": 82,
      "metadata": {
        "execution": {
          "iopub.execute_input": "2022-10-21T16:33:08.84812Z",
          "iopub.status.busy": "2022-10-21T16:33:08.847537Z",
          "iopub.status.idle": "2022-10-21T16:33:08.86098Z",
          "shell.execute_reply": "2022-10-21T16:33:08.859379Z",
          "shell.execute_reply.started": "2022-10-21T16:33:08.848088Z"
        },
        "id": "WpSVCoZXM7pu",
        "trusted": true
      },
      "outputs": [],
      "source": [
        "lr = LogisticRegression()"
      ]
    },
    {
      "cell_type": "code",
      "execution_count": 83,
      "metadata": {
        "execution": {
          "iopub.execute_input": "2022-10-21T16:33:08.863672Z",
          "iopub.status.busy": "2022-10-21T16:33:08.862925Z",
          "iopub.status.idle": "2022-10-21T16:33:08.944829Z",
          "shell.execute_reply": "2022-10-21T16:33:08.943255Z",
          "shell.execute_reply.started": "2022-10-21T16:33:08.863619Z"
        },
        "id": "wz65YDYOM7pu",
        "trusted": true
      },
      "outputs": [
        {
          "data": {
            "text/html": [
              "<style>#sk-container-id-1 {\n",
              "  /* Definition of color scheme common for light and dark mode */\n",
              "  --sklearn-color-text: #000;\n",
              "  --sklearn-color-text-muted: #666;\n",
              "  --sklearn-color-line: gray;\n",
              "  /* Definition of color scheme for unfitted estimators */\n",
              "  --sklearn-color-unfitted-level-0: #fff5e6;\n",
              "  --sklearn-color-unfitted-level-1: #f6e4d2;\n",
              "  --sklearn-color-unfitted-level-2: #ffe0b3;\n",
              "  --sklearn-color-unfitted-level-3: chocolate;\n",
              "  /* Definition of color scheme for fitted estimators */\n",
              "  --sklearn-color-fitted-level-0: #f0f8ff;\n",
              "  --sklearn-color-fitted-level-1: #d4ebff;\n",
              "  --sklearn-color-fitted-level-2: #b3dbfd;\n",
              "  --sklearn-color-fitted-level-3: cornflowerblue;\n",
              "\n",
              "  /* Specific color for light theme */\n",
              "  --sklearn-color-text-on-default-background: var(--sg-text-color, var(--theme-code-foreground, var(--jp-content-font-color1, black)));\n",
              "  --sklearn-color-background: var(--sg-background-color, var(--theme-background, var(--jp-layout-color0, white)));\n",
              "  --sklearn-color-border-box: var(--sg-text-color, var(--theme-code-foreground, var(--jp-content-font-color1, black)));\n",
              "  --sklearn-color-icon: #696969;\n",
              "\n",
              "  @media (prefers-color-scheme: dark) {\n",
              "    /* Redefinition of color scheme for dark theme */\n",
              "    --sklearn-color-text-on-default-background: var(--sg-text-color, var(--theme-code-foreground, var(--jp-content-font-color1, white)));\n",
              "    --sklearn-color-background: var(--sg-background-color, var(--theme-background, var(--jp-layout-color0, #111)));\n",
              "    --sklearn-color-border-box: var(--sg-text-color, var(--theme-code-foreground, var(--jp-content-font-color1, white)));\n",
              "    --sklearn-color-icon: #878787;\n",
              "  }\n",
              "}\n",
              "\n",
              "#sk-container-id-1 {\n",
              "  color: var(--sklearn-color-text);\n",
              "}\n",
              "\n",
              "#sk-container-id-1 pre {\n",
              "  padding: 0;\n",
              "}\n",
              "\n",
              "#sk-container-id-1 input.sk-hidden--visually {\n",
              "  border: 0;\n",
              "  clip: rect(1px 1px 1px 1px);\n",
              "  clip: rect(1px, 1px, 1px, 1px);\n",
              "  height: 1px;\n",
              "  margin: -1px;\n",
              "  overflow: hidden;\n",
              "  padding: 0;\n",
              "  position: absolute;\n",
              "  width: 1px;\n",
              "}\n",
              "\n",
              "#sk-container-id-1 div.sk-dashed-wrapped {\n",
              "  border: 1px dashed var(--sklearn-color-line);\n",
              "  margin: 0 0.4em 0.5em 0.4em;\n",
              "  box-sizing: border-box;\n",
              "  padding-bottom: 0.4em;\n",
              "  background-color: var(--sklearn-color-background);\n",
              "}\n",
              "\n",
              "#sk-container-id-1 div.sk-container {\n",
              "  /* jupyter's `normalize.less` sets `[hidden] { display: none; }`\n",
              "     but bootstrap.min.css set `[hidden] { display: none !important; }`\n",
              "     so we also need the `!important` here to be able to override the\n",
              "     default hidden behavior on the sphinx rendered scikit-learn.org.\n",
              "     See: https://github.com/scikit-learn/scikit-learn/issues/21755 */\n",
              "  display: inline-block !important;\n",
              "  position: relative;\n",
              "}\n",
              "\n",
              "#sk-container-id-1 div.sk-text-repr-fallback {\n",
              "  display: none;\n",
              "}\n",
              "\n",
              "div.sk-parallel-item,\n",
              "div.sk-serial,\n",
              "div.sk-item {\n",
              "  /* draw centered vertical line to link estimators */\n",
              "  background-image: linear-gradient(var(--sklearn-color-text-on-default-background), var(--sklearn-color-text-on-default-background));\n",
              "  background-size: 2px 100%;\n",
              "  background-repeat: no-repeat;\n",
              "  background-position: center center;\n",
              "}\n",
              "\n",
              "/* Parallel-specific style estimator block */\n",
              "\n",
              "#sk-container-id-1 div.sk-parallel-item::after {\n",
              "  content: \"\";\n",
              "  width: 100%;\n",
              "  border-bottom: 2px solid var(--sklearn-color-text-on-default-background);\n",
              "  flex-grow: 1;\n",
              "}\n",
              "\n",
              "#sk-container-id-1 div.sk-parallel {\n",
              "  display: flex;\n",
              "  align-items: stretch;\n",
              "  justify-content: center;\n",
              "  background-color: var(--sklearn-color-background);\n",
              "  position: relative;\n",
              "}\n",
              "\n",
              "#sk-container-id-1 div.sk-parallel-item {\n",
              "  display: flex;\n",
              "  flex-direction: column;\n",
              "}\n",
              "\n",
              "#sk-container-id-1 div.sk-parallel-item:first-child::after {\n",
              "  align-self: flex-end;\n",
              "  width: 50%;\n",
              "}\n",
              "\n",
              "#sk-container-id-1 div.sk-parallel-item:last-child::after {\n",
              "  align-self: flex-start;\n",
              "  width: 50%;\n",
              "}\n",
              "\n",
              "#sk-container-id-1 div.sk-parallel-item:only-child::after {\n",
              "  width: 0;\n",
              "}\n",
              "\n",
              "/* Serial-specific style estimator block */\n",
              "\n",
              "#sk-container-id-1 div.sk-serial {\n",
              "  display: flex;\n",
              "  flex-direction: column;\n",
              "  align-items: center;\n",
              "  background-color: var(--sklearn-color-background);\n",
              "  padding-right: 1em;\n",
              "  padding-left: 1em;\n",
              "}\n",
              "\n",
              "\n",
              "/* Toggleable style: style used for estimator/Pipeline/ColumnTransformer box that is\n",
              "clickable and can be expanded/collapsed.\n",
              "- Pipeline and ColumnTransformer use this feature and define the default style\n",
              "- Estimators will overwrite some part of the style using the `sk-estimator` class\n",
              "*/\n",
              "\n",
              "/* Pipeline and ColumnTransformer style (default) */\n",
              "\n",
              "#sk-container-id-1 div.sk-toggleable {\n",
              "  /* Default theme specific background. It is overwritten whether we have a\n",
              "  specific estimator or a Pipeline/ColumnTransformer */\n",
              "  background-color: var(--sklearn-color-background);\n",
              "}\n",
              "\n",
              "/* Toggleable label */\n",
              "#sk-container-id-1 label.sk-toggleable__label {\n",
              "  cursor: pointer;\n",
              "  display: flex;\n",
              "  width: 100%;\n",
              "  margin-bottom: 0;\n",
              "  padding: 0.5em;\n",
              "  box-sizing: border-box;\n",
              "  text-align: center;\n",
              "  align-items: start;\n",
              "  justify-content: space-between;\n",
              "  gap: 0.5em;\n",
              "}\n",
              "\n",
              "#sk-container-id-1 label.sk-toggleable__label .caption {\n",
              "  font-size: 0.6rem;\n",
              "  font-weight: lighter;\n",
              "  color: var(--sklearn-color-text-muted);\n",
              "}\n",
              "\n",
              "#sk-container-id-1 label.sk-toggleable__label-arrow:before {\n",
              "  /* Arrow on the left of the label */\n",
              "  content: \"▸\";\n",
              "  float: left;\n",
              "  margin-right: 0.25em;\n",
              "  color: var(--sklearn-color-icon);\n",
              "}\n",
              "\n",
              "#sk-container-id-1 label.sk-toggleable__label-arrow:hover:before {\n",
              "  color: var(--sklearn-color-text);\n",
              "}\n",
              "\n",
              "/* Toggleable content - dropdown */\n",
              "\n",
              "#sk-container-id-1 div.sk-toggleable__content {\n",
              "  max-height: 0;\n",
              "  max-width: 0;\n",
              "  overflow: hidden;\n",
              "  text-align: left;\n",
              "  /* unfitted */\n",
              "  background-color: var(--sklearn-color-unfitted-level-0);\n",
              "}\n",
              "\n",
              "#sk-container-id-1 div.sk-toggleable__content.fitted {\n",
              "  /* fitted */\n",
              "  background-color: var(--sklearn-color-fitted-level-0);\n",
              "}\n",
              "\n",
              "#sk-container-id-1 div.sk-toggleable__content pre {\n",
              "  margin: 0.2em;\n",
              "  border-radius: 0.25em;\n",
              "  color: var(--sklearn-color-text);\n",
              "  /* unfitted */\n",
              "  background-color: var(--sklearn-color-unfitted-level-0);\n",
              "}\n",
              "\n",
              "#sk-container-id-1 div.sk-toggleable__content.fitted pre {\n",
              "  /* unfitted */\n",
              "  background-color: var(--sklearn-color-fitted-level-0);\n",
              "}\n",
              "\n",
              "#sk-container-id-1 input.sk-toggleable__control:checked~div.sk-toggleable__content {\n",
              "  /* Expand drop-down */\n",
              "  max-height: 200px;\n",
              "  max-width: 100%;\n",
              "  overflow: auto;\n",
              "}\n",
              "\n",
              "#sk-container-id-1 input.sk-toggleable__control:checked~label.sk-toggleable__label-arrow:before {\n",
              "  content: \"▾\";\n",
              "}\n",
              "\n",
              "/* Pipeline/ColumnTransformer-specific style */\n",
              "\n",
              "#sk-container-id-1 div.sk-label input.sk-toggleable__control:checked~label.sk-toggleable__label {\n",
              "  color: var(--sklearn-color-text);\n",
              "  background-color: var(--sklearn-color-unfitted-level-2);\n",
              "}\n",
              "\n",
              "#sk-container-id-1 div.sk-label.fitted input.sk-toggleable__control:checked~label.sk-toggleable__label {\n",
              "  background-color: var(--sklearn-color-fitted-level-2);\n",
              "}\n",
              "\n",
              "/* Estimator-specific style */\n",
              "\n",
              "/* Colorize estimator box */\n",
              "#sk-container-id-1 div.sk-estimator input.sk-toggleable__control:checked~label.sk-toggleable__label {\n",
              "  /* unfitted */\n",
              "  background-color: var(--sklearn-color-unfitted-level-2);\n",
              "}\n",
              "\n",
              "#sk-container-id-1 div.sk-estimator.fitted input.sk-toggleable__control:checked~label.sk-toggleable__label {\n",
              "  /* fitted */\n",
              "  background-color: var(--sklearn-color-fitted-level-2);\n",
              "}\n",
              "\n",
              "#sk-container-id-1 div.sk-label label.sk-toggleable__label,\n",
              "#sk-container-id-1 div.sk-label label {\n",
              "  /* The background is the default theme color */\n",
              "  color: var(--sklearn-color-text-on-default-background);\n",
              "}\n",
              "\n",
              "/* On hover, darken the color of the background */\n",
              "#sk-container-id-1 div.sk-label:hover label.sk-toggleable__label {\n",
              "  color: var(--sklearn-color-text);\n",
              "  background-color: var(--sklearn-color-unfitted-level-2);\n",
              "}\n",
              "\n",
              "/* Label box, darken color on hover, fitted */\n",
              "#sk-container-id-1 div.sk-label.fitted:hover label.sk-toggleable__label.fitted {\n",
              "  color: var(--sklearn-color-text);\n",
              "  background-color: var(--sklearn-color-fitted-level-2);\n",
              "}\n",
              "\n",
              "/* Estimator label */\n",
              "\n",
              "#sk-container-id-1 div.sk-label label {\n",
              "  font-family: monospace;\n",
              "  font-weight: bold;\n",
              "  display: inline-block;\n",
              "  line-height: 1.2em;\n",
              "}\n",
              "\n",
              "#sk-container-id-1 div.sk-label-container {\n",
              "  text-align: center;\n",
              "}\n",
              "\n",
              "/* Estimator-specific */\n",
              "#sk-container-id-1 div.sk-estimator {\n",
              "  font-family: monospace;\n",
              "  border: 1px dotted var(--sklearn-color-border-box);\n",
              "  border-radius: 0.25em;\n",
              "  box-sizing: border-box;\n",
              "  margin-bottom: 0.5em;\n",
              "  /* unfitted */\n",
              "  background-color: var(--sklearn-color-unfitted-level-0);\n",
              "}\n",
              "\n",
              "#sk-container-id-1 div.sk-estimator.fitted {\n",
              "  /* fitted */\n",
              "  background-color: var(--sklearn-color-fitted-level-0);\n",
              "}\n",
              "\n",
              "/* on hover */\n",
              "#sk-container-id-1 div.sk-estimator:hover {\n",
              "  /* unfitted */\n",
              "  background-color: var(--sklearn-color-unfitted-level-2);\n",
              "}\n",
              "\n",
              "#sk-container-id-1 div.sk-estimator.fitted:hover {\n",
              "  /* fitted */\n",
              "  background-color: var(--sklearn-color-fitted-level-2);\n",
              "}\n",
              "\n",
              "/* Specification for estimator info (e.g. \"i\" and \"?\") */\n",
              "\n",
              "/* Common style for \"i\" and \"?\" */\n",
              "\n",
              ".sk-estimator-doc-link,\n",
              "a:link.sk-estimator-doc-link,\n",
              "a:visited.sk-estimator-doc-link {\n",
              "  float: right;\n",
              "  font-size: smaller;\n",
              "  line-height: 1em;\n",
              "  font-family: monospace;\n",
              "  background-color: var(--sklearn-color-background);\n",
              "  border-radius: 1em;\n",
              "  height: 1em;\n",
              "  width: 1em;\n",
              "  text-decoration: none !important;\n",
              "  margin-left: 0.5em;\n",
              "  text-align: center;\n",
              "  /* unfitted */\n",
              "  border: var(--sklearn-color-unfitted-level-1) 1pt solid;\n",
              "  color: var(--sklearn-color-unfitted-level-1);\n",
              "}\n",
              "\n",
              ".sk-estimator-doc-link.fitted,\n",
              "a:link.sk-estimator-doc-link.fitted,\n",
              "a:visited.sk-estimator-doc-link.fitted {\n",
              "  /* fitted */\n",
              "  border: var(--sklearn-color-fitted-level-1) 1pt solid;\n",
              "  color: var(--sklearn-color-fitted-level-1);\n",
              "}\n",
              "\n",
              "/* On hover */\n",
              "div.sk-estimator:hover .sk-estimator-doc-link:hover,\n",
              ".sk-estimator-doc-link:hover,\n",
              "div.sk-label-container:hover .sk-estimator-doc-link:hover,\n",
              ".sk-estimator-doc-link:hover {\n",
              "  /* unfitted */\n",
              "  background-color: var(--sklearn-color-unfitted-level-3);\n",
              "  color: var(--sklearn-color-background);\n",
              "  text-decoration: none;\n",
              "}\n",
              "\n",
              "div.sk-estimator.fitted:hover .sk-estimator-doc-link.fitted:hover,\n",
              ".sk-estimator-doc-link.fitted:hover,\n",
              "div.sk-label-container:hover .sk-estimator-doc-link.fitted:hover,\n",
              ".sk-estimator-doc-link.fitted:hover {\n",
              "  /* fitted */\n",
              "  background-color: var(--sklearn-color-fitted-level-3);\n",
              "  color: var(--sklearn-color-background);\n",
              "  text-decoration: none;\n",
              "}\n",
              "\n",
              "/* Span, style for the box shown on hovering the info icon */\n",
              ".sk-estimator-doc-link span {\n",
              "  display: none;\n",
              "  z-index: 9999;\n",
              "  position: relative;\n",
              "  font-weight: normal;\n",
              "  right: .2ex;\n",
              "  padding: .5ex;\n",
              "  margin: .5ex;\n",
              "  width: min-content;\n",
              "  min-width: 20ex;\n",
              "  max-width: 50ex;\n",
              "  color: var(--sklearn-color-text);\n",
              "  box-shadow: 2pt 2pt 4pt #999;\n",
              "  /* unfitted */\n",
              "  background: var(--sklearn-color-unfitted-level-0);\n",
              "  border: .5pt solid var(--sklearn-color-unfitted-level-3);\n",
              "}\n",
              "\n",
              ".sk-estimator-doc-link.fitted span {\n",
              "  /* fitted */\n",
              "  background: var(--sklearn-color-fitted-level-0);\n",
              "  border: var(--sklearn-color-fitted-level-3);\n",
              "}\n",
              "\n",
              ".sk-estimator-doc-link:hover span {\n",
              "  display: block;\n",
              "}\n",
              "\n",
              "/* \"?\"-specific style due to the `<a>` HTML tag */\n",
              "\n",
              "#sk-container-id-1 a.estimator_doc_link {\n",
              "  float: right;\n",
              "  font-size: 1rem;\n",
              "  line-height: 1em;\n",
              "  font-family: monospace;\n",
              "  background-color: var(--sklearn-color-background);\n",
              "  border-radius: 1rem;\n",
              "  height: 1rem;\n",
              "  width: 1rem;\n",
              "  text-decoration: none;\n",
              "  /* unfitted */\n",
              "  color: var(--sklearn-color-unfitted-level-1);\n",
              "  border: var(--sklearn-color-unfitted-level-1) 1pt solid;\n",
              "}\n",
              "\n",
              "#sk-container-id-1 a.estimator_doc_link.fitted {\n",
              "  /* fitted */\n",
              "  border: var(--sklearn-color-fitted-level-1) 1pt solid;\n",
              "  color: var(--sklearn-color-fitted-level-1);\n",
              "}\n",
              "\n",
              "/* On hover */\n",
              "#sk-container-id-1 a.estimator_doc_link:hover {\n",
              "  /* unfitted */\n",
              "  background-color: var(--sklearn-color-unfitted-level-3);\n",
              "  color: var(--sklearn-color-background);\n",
              "  text-decoration: none;\n",
              "}\n",
              "\n",
              "#sk-container-id-1 a.estimator_doc_link.fitted:hover {\n",
              "  /* fitted */\n",
              "  background-color: var(--sklearn-color-fitted-level-3);\n",
              "}\n",
              "</style><div id=\"sk-container-id-1\" class=\"sk-top-container\"><div class=\"sk-text-repr-fallback\"><pre>LogisticRegression()</pre><b>In a Jupyter environment, please rerun this cell to show the HTML representation or trust the notebook. <br />On GitHub, the HTML representation is unable to render, please try loading this page with nbviewer.org.</b></div><div class=\"sk-container\" hidden><div class=\"sk-item\"><div class=\"sk-estimator fitted sk-toggleable\"><input class=\"sk-toggleable__control sk-hidden--visually\" id=\"sk-estimator-id-1\" type=\"checkbox\" checked><label for=\"sk-estimator-id-1\" class=\"sk-toggleable__label fitted sk-toggleable__label-arrow\"><div><div>LogisticRegression</div></div><div><a class=\"sk-estimator-doc-link fitted\" rel=\"noreferrer\" target=\"_blank\" href=\"https://scikit-learn.org/1.6/modules/generated/sklearn.linear_model.LogisticRegression.html\">?<span>Documentation for LogisticRegression</span></a><span class=\"sk-estimator-doc-link fitted\">i<span>Fitted</span></span></div></label><div class=\"sk-toggleable__content fitted\"><pre>LogisticRegression()</pre></div> </div></div></div></div>"
            ],
            "text/plain": [
              "LogisticRegression()"
            ]
          },
          "execution_count": 83,
          "metadata": {},
          "output_type": "execute_result"
        }
      ],
      "source": [
        "lr.fit(x_res,y_res)"
      ]
    },
    {
      "cell_type": "code",
      "execution_count": 84,
      "metadata": {
        "execution": {
          "iopub.execute_input": "2022-10-21T16:33:08.948201Z",
          "iopub.status.busy": "2022-10-21T16:33:08.947198Z",
          "iopub.status.idle": "2022-10-21T16:33:08.960603Z",
          "shell.execute_reply": "2022-10-21T16:33:08.958705Z",
          "shell.execute_reply.started": "2022-10-21T16:33:08.948141Z"
        },
        "id": "GrfHQiyoM7pv",
        "trusted": true
      },
      "outputs": [],
      "source": [
        "y_pred = lr.predict(x_test)"
      ]
    },
    {
      "cell_type": "code",
      "execution_count": 85,
      "metadata": {
        "execution": {
          "iopub.execute_input": "2022-10-21T16:33:08.964654Z",
          "iopub.status.busy": "2022-10-21T16:33:08.963462Z",
          "iopub.status.idle": "2022-10-21T16:33:08.971785Z",
          "shell.execute_reply": "2022-10-21T16:33:08.97021Z",
          "shell.execute_reply.started": "2022-10-21T16:33:08.964586Z"
        },
        "id": "5KHIgKSEM7pv",
        "trusted": true
      },
      "outputs": [],
      "source": [
        "from sklearn.metrics import confusion_matrix, classification_report"
      ]
    },
    {
      "cell_type": "code",
      "execution_count": 86,
      "metadata": {
        "execution": {
          "iopub.execute_input": "2022-10-21T16:33:08.975204Z",
          "iopub.status.busy": "2022-10-21T16:33:08.974214Z",
          "iopub.status.idle": "2022-10-21T16:33:08.992937Z",
          "shell.execute_reply": "2022-10-21T16:33:08.990704Z",
          "shell.execute_reply.started": "2022-10-21T16:33:08.97514Z"
        },
        "id": "5f2zHWLgM7p0",
        "trusted": true
      },
      "outputs": [
        {
          "data": {
            "text/plain": [
              "array([[2620,  280],\n",
              "       [  17,   83]])"
            ]
          },
          "execution_count": 86,
          "metadata": {},
          "output_type": "execute_result"
        }
      ],
      "source": [
        "confusion_matrix(y_test,y_pred)"
      ]
    },
    {
      "cell_type": "code",
      "execution_count": null,
      "metadata": {
        "execution": {
          "iopub.execute_input": "2022-10-21T16:33:08.997155Z",
          "iopub.status.busy": "2022-10-21T16:33:08.995795Z",
          "iopub.status.idle": "2022-10-21T16:33:09.008901Z",
          "shell.execute_reply": "2022-10-21T16:33:09.007229Z",
          "shell.execute_reply.started": "2022-10-21T16:33:08.997089Z"
        },
        "id": "vOOYkOkyM7p0",
        "trusted": true
      },
      "outputs": [
        {
          "data": {
            "text/plain": [
              "0.7683333333333333"
            ]
          },
          "execution_count": 87,
          "metadata": {},
          "output_type": "execute_result"
        }
      ],
      "source": [
        "(2226+79)/(2226+79+21+674)\n",
        "# Accuracy \n"
      ]
    }
  ],
  "metadata": {
    "colab": {
      "name": "EDA of Financial data",
      "provenance": []
    },
    "kernelspec": {
      "display_name": "env",
      "language": "python",
      "name": "python3"
    },
    "language_info": {
      "codemirror_mode": {
        "name": "ipython",
        "version": 3
      },
      "file_extension": ".py",
      "mimetype": "text/x-python",
      "name": "python",
      "nbconvert_exporter": "python",
      "pygments_lexer": "ipython3",
      "version": "3.10.12"
    }
  },
  "nbformat": 4,
  "nbformat_minor": 0
}
