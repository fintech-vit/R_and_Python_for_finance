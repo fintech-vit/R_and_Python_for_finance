{
  "cells": [
    {
      "cell_type": "markdown",
      "metadata": {
        "id": "MhDEzxHTIY-4"
      },
      "source": [
        "# **Loan Approval Classification | EDA & ML**"
      ]
    },
    {
      "cell_type": "code",
      "execution_count": null,
      "metadata": {
        "execution": {
          "iopub.execute_input": "2024-11-20T13:37:13.394134Z",
          "iopub.status.busy": "2024-11-20T13:37:13.392685Z",
          "iopub.status.idle": "2024-11-20T13:37:13.833587Z",
          "shell.execute_reply": "2024-11-20T13:37:13.832307Z",
          "shell.execute_reply.started": "2024-11-20T13:37:13.394093Z"
        },
        "id": "STezSi6MIY-4",
        "trusted": true
      },
      "outputs": [],
      "source": [
        "import numpy as np # linear algebra\n",
        "import pandas as pd # data processing, CSV file I/O (e.g. pd.read_csv)\n"
      ]
    },
    {
      "cell_type": "code",
      "execution_count": null,
      "metadata": {
        "_cell_guid": "b1076dfc-b9ad-4769-8c92-a6c4dae69d19",
        "_uuid": "8f2839f25d086af736a60e9eeb907d3b93b6e0e5",
        "execution": {
          "iopub.execute_input": "2024-11-20T13:37:13.837196Z",
          "iopub.status.busy": "2024-11-20T13:37:13.836448Z",
          "iopub.status.idle": "2024-11-20T13:37:14.867211Z",
          "shell.execute_reply": "2024-11-20T13:37:14.865914Z",
          "shell.execute_reply.started": "2024-11-20T13:37:13.837142Z"
        },
        "id": "vqz4HE7UIY-5",
        "trusted": true
      },
      "outputs": [],
      "source": [
        "import matplotlib.pyplot as plt\n",
        "import plotly.express as px\n",
        "import seaborn as sns\n",
        "\n",
        "from sklearn.model_selection import train_test_split, GridSearchCV\n",
        "from sklearn.linear_model import LogisticRegression\n",
        "from sklearn.neighbors import KNeighborsClassifier\n",
        "from sklearn.naive_bayes import MultinomialNB\n",
        "from sklearn.feature_extraction.text import CountVectorizer\n",
        "import xgboost as xgb\n",
        "from sklearn.svm import SVC\n",
        "from sklearn.preprocessing import StandardScaler, MinMaxScaler\n",
        "from sklearn.metrics import accuracy_score, confusion_matrix, classification_report, roc_auc_score, roc_curve\n",
        "\n",
        "import warnings\n",
        "warnings.filterwarnings(\"ignore\")"
      ]
    },
    {
      "cell_type": "code",
      "execution_count": null,
      "metadata": {
        "execution": {
          "iopub.execute_input": "2024-11-20T13:37:14.870164Z",
          "iopub.status.busy": "2024-11-20T13:37:14.869254Z",
          "iopub.status.idle": "2024-11-20T13:37:15.003384Z",
          "shell.execute_reply": "2024-11-20T13:37:15.001671Z",
          "shell.execute_reply.started": "2024-11-20T13:37:14.870103Z"
        },
        "id": "hVhgm-9dIY-5",
        "trusted": true
      },
      "outputs": [],
      "source": [
        "df = pd.read_csv(\"loan_data.csv\")\n",
        "df"
      ]
    },
    {
      "cell_type": "code",
      "execution_count": null,
      "metadata": {
        "execution": {
          "iopub.execute_input": "2024-11-20T13:37:15.007229Z",
          "iopub.status.busy": "2024-11-20T13:37:15.006783Z",
          "iopub.status.idle": "2024-11-20T13:37:15.034979Z",
          "shell.execute_reply": "2024-11-20T13:37:15.033935Z",
          "shell.execute_reply.started": "2024-11-20T13:37:15.007191Z"
        },
        "id": "SJHXZBtuIY-5",
        "trusted": true
      },
      "outputs": [],
      "source": [
        "df.info()"
      ]
    },
    {
      "cell_type": "code",
      "execution_count": null,
      "metadata": {
        "execution": {
          "iopub.execute_input": "2024-11-20T13:37:15.036988Z",
          "iopub.status.busy": "2024-11-20T13:37:15.036557Z",
          "iopub.status.idle": "2024-11-20T13:37:15.050363Z",
          "shell.execute_reply": "2024-11-20T13:37:15.048849Z",
          "shell.execute_reply.started": "2024-11-20T13:37:15.036952Z"
        },
        "id": "IgCUvPO5IY-6",
        "trusted": true
      },
      "outputs": [],
      "source": [
        "# convert to age to int format\n",
        "df['person_age'] = # your code here\n",
        "df['person_age'].dtypes"
      ]
    },
    {
      "cell_type": "code",
      "execution_count": null,
      "metadata": {
        "execution": {
          "iopub.execute_input": "2024-11-20T13:37:15.052831Z",
          "iopub.status.busy": "2024-11-20T13:37:15.052302Z",
          "iopub.status.idle": "2024-11-20T13:37:15.064053Z",
          "shell.execute_reply": "2024-11-20T13:37:15.062905Z",
          "shell.execute_reply.started": "2024-11-20T13:37:15.052766Z"
        },
        "id": "pRW2HBxhIY-6",
        "trusted": true
      },
      "outputs": [],
      "source": [
        "cat_cols = [var for var in df.columns if df[var].dtypes == 'object']\n",
        "num_cols = [var for var in df.columns if df[var].dtypes != 'object']\n",
        "\n",
        "print(f'Categorical columns: {cat_cols}')\n",
        "print(f'Numerical columns: {num_cols}')"
      ]
    },
    {
      "cell_type": "code",
      "execution_count": null,
      "metadata": {
        "execution": {
          "iopub.execute_input": "2024-11-20T13:37:15.066369Z",
          "iopub.status.busy": "2024-11-20T13:37:15.065973Z",
          "iopub.status.idle": "2024-11-20T13:37:15.081913Z",
          "shell.execute_reply": "2024-11-20T13:37:15.080391Z",
          "shell.execute_reply.started": "2024-11-20T13:37:15.066337Z"
        },
        "id": "qdViLFDIIY-6",
        "trusted": true
      },
      "outputs": [],
      "source": [
        "cat_cols"
      ]
    },
    {
      "cell_type": "code",
      "execution_count": null,
      "metadata": {
        "execution": {
          "iopub.execute_input": "2024-11-20T13:37:15.08439Z",
          "iopub.status.busy": "2024-11-20T13:37:15.08352Z",
          "iopub.status.idle": "2024-11-20T13:37:15.098514Z",
          "shell.execute_reply": "2024-11-20T13:37:15.097249Z",
          "shell.execute_reply.started": "2024-11-20T13:37:15.084338Z"
        },
        "id": "BYM_T6k5IY-6",
        "trusted": true
      },
      "outputs": [],
      "source": [
        "# print the frequency of  'person_gender' column\n",
        "# your code here"
      ]
    },
    {
      "cell_type": "code",
      "execution_count": null,
      "metadata": {
        "execution": {
          "iopub.execute_input": "2024-11-20T13:37:15.101446Z",
          "iopub.status.busy": "2024-11-20T13:37:15.100358Z",
          "iopub.status.idle": "2024-11-20T13:37:16.460198Z",
          "shell.execute_reply": "2024-11-20T13:37:16.458769Z",
          "shell.execute_reply.started": "2024-11-20T13:37:15.101393Z"
        },
        "id": "vIDkzULyIY-7",
        "trusted": true
      },
      "outputs": [],
      "source": [
        "def plot_categorical_column(dataframe, column):\n",
        "\n",
        "    plt.figure(figsize=(7, 7))\n",
        "    ax = sns.countplot(x=dataframe[column])\n",
        "    total_count = len(dataframe[column])\n",
        "    threshold = 0.05 * total_count\n",
        "    category_counts = dataframe[column].value_counts(normalize=True) * 100\n",
        "    ax.axhline(threshold, color='red', linestyle='--', label=f'0.05% of total count ({threshold:.0f})')\n",
        "\n",
        "    for p in ax.patches:\n",
        "        height = p.get_height()\n",
        "        percentage = (height / total_count) * 100\n",
        "        ax.text(p.get_x() + p.get_width() / 2., height + 0.02 * total_count, f'{percentage:.2f}%', ha=\"center\")\n",
        "\n",
        "    plt.title(f'Label Cardinality for \"{column}\" Column')\n",
        "    plt.ylabel('Count')\n",
        "    plt.xlabel(column)\n",
        "    plt.tight_layout()\n",
        "\n",
        "    plt.legend()\n",
        "    plt.show()\n",
        "\n",
        "for col in cat_cols:\n",
        "    plot_categorical_column(df, col)\n"
      ]
    },
    {
      "cell_type": "code",
      "execution_count": null,
      "metadata": {
        "execution": {
          "iopub.execute_input": "2024-11-20T13:37:16.464266Z",
          "iopub.status.busy": "2024-11-20T13:37:16.463922Z",
          "iopub.status.idle": "2024-11-20T13:37:18.205938Z",
          "shell.execute_reply": "2024-11-20T13:37:18.204531Z",
          "shell.execute_reply.started": "2024-11-20T13:37:16.464235Z"
        },
        "id": "SEGJbrPyIY-7",
        "trusted": true
      },
      "outputs": [],
      "source": [
        "df[num_cols].hist(bins=30, figsize=(12,10))\n",
        "# bins=30 means it will create 30 bins if the data is continuous, 30 bins is 30 columns \n",
        "plt.show()"
      ]
    },
    {
      "cell_type": "code",
      "execution_count": null,
      "metadata": {
        "execution": {
          "iopub.execute_input": "2024-11-20T13:37:18.207594Z",
          "iopub.status.busy": "2024-11-20T13:37:18.207287Z",
          "iopub.status.idle": "2024-11-20T13:37:18.31742Z",
          "shell.execute_reply": "2024-11-20T13:37:18.315946Z",
          "shell.execute_reply.started": "2024-11-20T13:37:18.207562Z"
        },
        "id": "XaZ0o0vfIY-7",
        "trusted": true
      },
      "outputs": [],
      "source": [
        "label_prop = df['loan_status'].value_counts()\n",
        "\n",
        "# plot a pie chart for the target label proportions,with autopct to show the percentage\n",
        "# your code here"
      ]
    },
    {
      "cell_type": "code",
      "execution_count": null,
      "metadata": {
        "execution": {
          "iopub.execute_input": "2024-11-20T13:37:18.320679Z",
          "iopub.status.busy": "2024-11-20T13:37:18.319669Z",
          "iopub.status.idle": "2024-11-20T13:37:20.431059Z",
          "shell.execute_reply": "2024-11-20T13:37:20.429578Z",
          "shell.execute_reply.started": "2024-11-20T13:37:18.320613Z"
        },
        "id": "dSh8yTDxIY-7",
        "trusted": true
      },
      "outputs": [],
      "source": [
        "for col in num_cols:\n",
        "    sns.boxplot(df[col])\n",
        "    plt.title(f'Boxplot of {col}')\n",
        "    plt.show()"
      ]
    },
    {
      "cell_type": "code",
      "execution_count": null,
      "metadata": {
        "execution": {
          "iopub.execute_input": "2024-11-20T13:37:20.433404Z",
          "iopub.status.busy": "2024-11-20T13:37:20.433085Z",
          "iopub.status.idle": "2024-11-20T13:37:31.131368Z",
          "shell.execute_reply": "2024-11-20T13:37:31.129918Z",
          "shell.execute_reply.started": "2024-11-20T13:37:20.433374Z"
        },
        "id": "QTQry7FaIY-8",
        "trusted": true
      },
      "outputs": [],
      "source": [
        "!pip install feature-engine\n"
      ]
    },
    {
      "cell_type": "code",
      "execution_count": null,
      "metadata": {
        "execution": {
          "iopub.execute_input": "2024-11-20T13:37:31.133623Z",
          "iopub.status.busy": "2024-11-20T13:37:31.133211Z",
          "iopub.status.idle": "2024-11-20T13:37:31.140365Z",
          "shell.execute_reply": "2024-11-20T13:37:31.138824Z",
          "shell.execute_reply.started": "2024-11-20T13:37:31.133584Z"
        },
        "id": "4i5pPOGWIY-8",
        "trusted": true
      },
      "outputs": [],
      "source": [
        "skewed_cols = ['person_age', 'person_income', 'person_emp_exp',\n",
        "               'loan_amnt', 'loan_percent_income',\n",
        "               'cb_person_cred_hist_length', 'credit_score']\n",
        "\n",
        "norm_cols= ['loan_int_rate']\n",
        "# we are defining the columns that are skewed and need to be transformed"
      ]
    },
    {
      "cell_type": "code",
      "execution_count": null,
      "metadata": {
        "execution": {
          "iopub.execute_input": "2024-11-20T13:37:31.142326Z",
          "iopub.status.busy": "2024-11-20T13:37:31.142007Z",
          "iopub.status.idle": "2024-11-20T13:37:31.1946Z",
          "shell.execute_reply": "2024-11-20T13:37:31.19337Z",
          "shell.execute_reply.started": "2024-11-20T13:37:31.142296Z"
        },
        "id": "Q8R8DzPLIY-8",
        "trusted": true
      },
      "outputs": [],
      "source": [
        "mms = MinMaxScaler()\n",
        "ss = StandardScaler()\n",
        "\n",
        "df[skewed_cols] = ss.fit_transform(df[skewed_cols])\n",
        "df[skewed_cols] = ss.transform(df[skewed_cols])\n",
        "\n",
        "df[norm_cols] = mms.fit_transform(df[norm_cols])\n",
        "df[norm_cols] = mms.transform(df[norm_cols])"
      ]
    },
    {
      "cell_type": "code",
      "execution_count": null,
      "metadata": {
        "execution": {
          "iopub.execute_input": "2024-11-20T13:37:31.196674Z",
          "iopub.status.busy": "2024-11-20T13:37:31.196308Z",
          "iopub.status.idle": "2024-11-20T13:37:31.226891Z",
          "shell.execute_reply": "2024-11-20T13:37:31.225735Z",
          "shell.execute_reply.started": "2024-11-20T13:37:31.196639Z"
        },
        "id": "Txj4Q8OvIY-8",
        "trusted": true
      },
      "outputs": [],
      "source": [
        "df['person_education'].replace({\n",
        "    'High School': 0,\n",
        "    'Associate': 1,\n",
        "    'Bachelor': 2,\n",
        "    'Master': 3,\n",
        "    'Doctorate':4\n",
        "}, inplace=True)\n",
        "\n",
        "df['person_education'].replace({\n",
        "    'High School': 0,\n",
        "    'Associate': 1,\n",
        "    'Bachelor': 2,\n",
        "    'Master': 3,\n",
        "    'Doctorate':4\n",
        "}, inplace=True)\n",
        "\n"
      ]
    },
    {
      "cell_type": "code",
      "execution_count": null,
      "metadata": {
        "execution": {
          "iopub.execute_input": "2024-11-20T13:37:31.228792Z",
          "iopub.status.busy": "2024-11-20T13:37:31.228435Z",
          "iopub.status.idle": "2024-11-20T13:37:31.241952Z",
          "shell.execute_reply": "2024-11-20T13:37:31.240659Z",
          "shell.execute_reply.started": "2024-11-20T13:37:31.228756Z"
        },
        "id": "hz5rqJx0IY-8",
        "trusted": true
      },
      "outputs": [],
      "source": [
        "df[\"person_home_ownership\"].value_counts()"
      ]
    },
    {
      "cell_type": "code",
      "execution_count": null,
      "metadata": {
        "execution": {
          "iopub.execute_input": "2024-11-20T13:37:31.243947Z",
          "iopub.status.busy": "2024-11-20T13:37:31.243572Z",
          "iopub.status.idle": "2024-11-20T13:37:31.261669Z",
          "shell.execute_reply": "2024-11-20T13:37:31.260309Z",
          "shell.execute_reply.started": "2024-11-20T13:37:31.24391Z"
        },
        "id": "94J8VhEXIY-8",
        "trusted": true
      },
      "outputs": [],
      "source": [
        "df[\"loan_intent\"].value_counts()"
      ]
    },
    {
      "cell_type": "code",
      "execution_count": null,
      "metadata": {
        "execution": {
          "iopub.execute_input": "2024-11-20T13:37:31.263376Z",
          "iopub.status.busy": "2024-11-20T13:37:31.263079Z",
          "iopub.status.idle": "2024-11-20T13:37:31.28255Z",
          "shell.execute_reply": "2024-11-20T13:37:31.281336Z",
          "shell.execute_reply.started": "2024-11-20T13:37:31.263349Z"
        },
        "id": "r_cHzxvGIY-9",
        "trusted": true
      },
      "outputs": [],
      "source": [
        "df[\"previous_loan_defaults_on_file\"].value_counts()"
      ]
    },
    {
      "cell_type": "code",
      "execution_count": null,
      "metadata": {
        "execution": {
          "iopub.execute_input": "2024-11-20T13:37:31.284711Z",
          "iopub.status.busy": "2024-11-20T13:37:31.284142Z",
          "iopub.status.idle": "2024-11-20T13:37:31.303261Z",
          "shell.execute_reply": "2024-11-20T13:37:31.301809Z",
          "shell.execute_reply.started": "2024-11-20T13:37:31.284669Z"
        },
        "id": "GTWH1l4XIY-9",
        "trusted": true
      },
      "outputs": [],
      "source": [
        "df[\"person_gender\"].value_counts()"
      ]
    },
    {
      "cell_type": "code",
      "execution_count": null,
      "metadata": {
        "execution": {
          "iopub.execute_input": "2024-11-20T13:37:31.305047Z",
          "iopub.status.busy": "2024-11-20T13:37:31.304671Z",
          "iopub.status.idle": "2024-11-20T13:37:31.336371Z",
          "shell.execute_reply": "2024-11-20T13:37:31.33517Z",
          "shell.execute_reply.started": "2024-11-20T13:37:31.305016Z"
        },
        "id": "0yjgDloxIY-9",
        "trusted": true
      },
      "outputs": [],
      "source": [
        "gender_mapping = {'male': 0, 'female': 1}\n",
        "home_ownership_mapping = {'RENT': 0, 'OWN': 1, 'MORTGAGE': 2, 'OTHER': 3}\n",
        "loan_intent_mapping = {'PERSONAL': 0, 'EDUCATION': 1, 'MEDICAL': 2, 'VENTURE': 3, 'HOMEIMPROVEMENT': 4, 'DEBTCONSOLIDATION': 5}\n",
        "previous_loan_defaults_mapping = {'No': 0, 'Yes': 1}\n",
        "\n",
        "\n",
        "# write appropriate code to map the categorical columns to numerical values\n",
        "df['person_gender'] = # your code here\n",
        "df['person_home_ownership'] = # your code here\n",
        "df['loan_intent'] = # your code here\n",
        "df['previous_loan_defaults_on_file'] = # your code here\n"
      ]
    },
    {
      "cell_type": "code",
      "execution_count": null,
      "metadata": {
        "execution": {
          "iopub.execute_input": "2024-11-20T13:37:31.337888Z",
          "iopub.status.busy": "2024-11-20T13:37:31.337555Z",
          "iopub.status.idle": "2024-11-20T13:37:31.349973Z",
          "shell.execute_reply": "2024-11-20T13:37:31.34874Z",
          "shell.execute_reply.started": "2024-11-20T13:37:31.33783Z"
        },
        "id": "eEJuRXI9IY-9",
        "trusted": true
      },
      "outputs": [],
      "source": [
        "# print the sum of all null values in the dataset\n",
        "# your code here"
      ]
    },
    {
      "cell_type": "code",
      "execution_count": null,
      "metadata": {
        "execution": {
          "iopub.execute_input": "2024-11-20T13:37:31.35192Z",
          "iopub.status.busy": "2024-11-20T13:37:31.351523Z",
          "iopub.status.idle": "2024-11-20T13:37:31.43522Z",
          "shell.execute_reply": "2024-11-20T13:37:31.434078Z",
          "shell.execute_reply.started": "2024-11-20T13:37:31.351855Z"
        },
        "id": "DATDiCl6IY-9",
        "trusted": true
      },
      "outputs": [],
      "source": [
        "from feature_engine.outliers import OutlierTrimmer\n",
        "\n",
        "trimmer = OutlierTrimmer(capping_method='iqr', tail='right',\n",
        "                        variables= ['person_age', 'person_gender', 'person_education', 'person_income',\n",
        "       'person_emp_exp', 'person_home_ownership', 'loan_amnt',\n",
        "       'loan_intent', 'loan_int_rate', 'loan_percent_income',\n",
        "       'cb_person_cred_hist_length', 'credit_score',\n",
        "       'previous_loan_defaults_on_file'])\n",
        "\n",
        "df2 = trimmer.fit_transform(df)\n",
        "# this will remove the outliers from the dataset "
      ]
    },
    {
      "cell_type": "code",
      "execution_count": null,
      "metadata": {
        "execution": {
          "iopub.execute_input": "2024-11-20T13:37:31.436969Z",
          "iopub.status.busy": "2024-11-20T13:37:31.43664Z",
          "iopub.status.idle": "2024-11-20T13:37:32.328157Z",
          "shell.execute_reply": "2024-11-20T13:37:32.326854Z",
          "shell.execute_reply.started": "2024-11-20T13:37:31.436937Z"
        },
        "id": "dw6Kf3XEIY-9",
        "trusted": true
      },
      "outputs": [],
      "source": [
        "plt.figure(figsize=(15, 8))\n",
        "sns.heatmap(df2.corr(), annot=True, cmap='coolwarm')\n",
        "plt.title('Correlation Matrix')\n",
        "plt.show()"
      ]
    },
    {
      "cell_type": "code",
      "execution_count": null,
      "metadata": {
        "execution": {
          "iopub.execute_input": "2024-11-20T13:37:32.331144Z",
          "iopub.status.busy": "2024-11-20T13:37:32.329981Z",
          "iopub.status.idle": "2024-11-20T13:37:32.36696Z",
          "shell.execute_reply": "2024-11-20T13:37:32.365373Z",
          "shell.execute_reply.started": "2024-11-20T13:37:32.331098Z"
        },
        "id": "mbE63WfQIY--",
        "trusted": true
      },
      "outputs": [],
      "source": [
        "threshold = 0.1\n",
        "\n",
        "correlation_matrix = df2.corr()\n",
        "high_corr_features = correlation_matrix.index[abs(correlation_matrix[\"loan_status\"]) > threshold].tolist()\n",
        "high_corr_features.remove(\"loan_status\")\n",
        "print(high_corr_features)\n",
        "\n",
        "X_selected = df[high_corr_features]\n",
        "Y = df[\"loan_status\"]"
      ]
    },
    {
      "cell_type": "code",
      "execution_count": null,
      "metadata": {
        "execution": {
          "iopub.execute_input": "2024-11-20T13:37:32.369653Z",
          "iopub.status.busy": "2024-11-20T13:37:32.368764Z",
          "iopub.status.idle": "2024-11-20T13:37:32.38868Z",
          "shell.execute_reply": "2024-11-20T13:37:32.387182Z",
          "shell.execute_reply.started": "2024-11-20T13:37:32.369614Z"
        },
        "id": "bTkAxWn7IY--",
        "trusted": true
      },
      "outputs": [],
      "source": [
        "X_train, X_test, y_train, y_test = train_test_split(X_selected, Y, test_size=0.2, random_state=42)\n",
        "\n",
        "# your code here to print the shape of the x_train, x_test, y_train, y_test"
      ]
    },
    {
      "cell_type": "code",
      "execution_count": null,
      "metadata": {
        "execution": {
          "iopub.execute_input": "2024-11-20T13:37:32.392106Z",
          "iopub.status.busy": "2024-11-20T13:37:32.391177Z",
          "iopub.status.idle": "2024-11-20T13:37:32.397491Z",
          "shell.execute_reply": "2024-11-20T13:37:32.396265Z",
          "shell.execute_reply.started": "2024-11-20T13:37:32.39205Z"
        },
        "id": "huvLrxCJIY--",
        "trusted": true
      },
      "outputs": [],
      "source": [
        "y_train = y_train.values.reshape(-1, 1)\n",
        "y_test = y_test.values.reshape(-1, 1)"
      ]
    },
    {
      "cell_type": "code",
      "execution_count": null,
      "metadata": {
        "execution": {
          "iopub.execute_input": "2024-11-20T13:37:32.40444Z",
          "iopub.status.busy": "2024-11-20T13:37:32.403996Z",
          "iopub.status.idle": "2024-11-20T13:37:32.68518Z",
          "shell.execute_reply": "2024-11-20T13:37:32.683829Z",
          "shell.execute_reply.started": "2024-11-20T13:37:32.404392Z"
        },
        "id": "jAmyTLSmIY--",
        "trusted": true
      },
      "outputs": [],
      "source": [
        "# create a Logistic Regression model with max_iter=1000 and random_state=42\n",
        "model = # your code here\n",
        "model.fit(X_train, y_train)"
      ]
    },
    {
      "cell_type": "code",
      "execution_count": null,
      "metadata": {
        "execution": {
          "iopub.execute_input": "2024-11-20T13:37:32.687465Z",
          "iopub.status.busy": "2024-11-20T13:37:32.686904Z",
          "iopub.status.idle": "2024-11-20T13:37:32.713807Z",
          "shell.execute_reply": "2024-11-20T13:37:32.71109Z",
          "shell.execute_reply.started": "2024-11-20T13:37:32.687404Z"
        },
        "id": "9LikE7tUIY--",
        "trusted": true
      },
      "outputs": [],
      "source": [
        "model.score(X_train, y_train)"
      ]
    },
    {
      "cell_type": "code",
      "execution_count": null,
      "metadata": {
        "execution": {
          "iopub.execute_input": "2024-11-20T13:37:32.7188Z",
          "iopub.status.busy": "2024-11-20T13:37:32.716642Z",
          "iopub.status.idle": "2024-11-20T13:37:32.733303Z",
          "shell.execute_reply": "2024-11-20T13:37:32.731967Z",
          "shell.execute_reply.started": "2024-11-20T13:37:32.718729Z"
        },
        "id": "D1tZL_QiIY--",
        "trusted": true
      },
      "outputs": [],
      "source": [
        "Y_pred = model.predict(X_test)"
      ]
    },
    {
      "cell_type": "code",
      "execution_count": null,
      "metadata": {
        "execution": {
          "iopub.execute_input": "2024-11-20T13:37:32.738579Z",
          "iopub.status.busy": "2024-11-20T13:37:32.73499Z",
          "iopub.status.idle": "2024-11-20T13:37:32.759789Z",
          "shell.execute_reply": "2024-11-20T13:37:32.757352Z",
          "shell.execute_reply.started": "2024-11-20T13:37:32.73849Z"
        },
        "id": "6I5mgdSiIY-_",
        "trusted": true
      },
      "outputs": [],
      "source": [
        "print(accuracy_score(y_test, Y_pred))"
      ]
    },
    {
      "cell_type": "code",
      "execution_count": null,
      "metadata": {
        "execution": {
          "iopub.execute_input": "2024-11-20T13:37:32.767325Z",
          "iopub.status.busy": "2024-11-20T13:37:32.762225Z",
          "iopub.status.idle": "2024-11-20T13:37:51.401379Z",
          "shell.execute_reply": "2024-11-20T13:37:51.399971Z",
          "shell.execute_reply.started": "2024-11-20T13:37:32.767243Z"
        },
        "id": "ET8m0UjgIY-_",
        "trusted": true
      },
      "outputs": [],
      "source": [
        "model2 = SVC()\n",
        "model2.fit(X_train, y_train)"
      ]
    },
    {
      "cell_type": "code",
      "execution_count": null,
      "metadata": {
        "execution": {
          "iopub.execute_input": "2024-11-20T13:37:51.40356Z",
          "iopub.status.busy": "2024-11-20T13:37:51.403152Z",
          "iopub.status.idle": "2024-11-20T13:37:56.009434Z",
          "shell.execute_reply": "2024-11-20T13:37:56.007971Z",
          "shell.execute_reply.started": "2024-11-20T13:37:51.403525Z"
        },
        "id": "MAX3nj1uIY-_",
        "trusted": true
      },
      "outputs": [],
      "source": [
        "Y_pred2 = model2.predict(X_test)\n",
        "print(accuracy_score(y_test, Y_pred2))"
      ]
    },
    {
      "cell_type": "code",
      "execution_count": null,
      "metadata": {
        "execution": {
          "iopub.execute_input": "2024-11-20T13:37:56.011654Z",
          "iopub.status.busy": "2024-11-20T13:37:56.011327Z",
          "iopub.status.idle": "2024-11-20T13:37:56.146927Z",
          "shell.execute_reply": "2024-11-20T13:37:56.145487Z",
          "shell.execute_reply.started": "2024-11-20T13:37:56.011625Z"
        },
        "id": "I0zHg3pbIY-_",
        "trusted": true
      },
      "outputs": [],
      "source": [
        "conf_matrix2 =confusion_matrix(y_test, Y_pred2)\n",
        "\n",
        "\n",
        "plt.figure(figsize=(8, 6))\n",
        "sns.heatmap(conf_matrix2, annot=True, fmt=\"d\", cmap=\"Blues\", cbar=False,\n",
        "            xticklabels=[\"Predicted Negative\", \"Predicted Positive\"],\n",
        "            yticklabels=[\"Actual Negative\", \"Actual Positive\"])\n",
        "\n",
        "plt.xlabel(\"Predicted Label\")\n",
        "plt.ylabel(\"True Label\")\n",
        "plt.title(\"Confusion Matrix Heatmap\")\n",
        "plt.show()"
      ]
    },
    {
      "cell_type": "code",
      "execution_count": null,
      "metadata": {
        "execution": {
          "iopub.execute_input": "2024-11-20T13:37:56.149189Z",
          "iopub.status.busy": "2024-11-20T13:37:56.148653Z",
          "iopub.status.idle": "2024-11-20T13:37:56.199Z",
          "shell.execute_reply": "2024-11-20T13:37:56.197891Z",
          "shell.execute_reply.started": "2024-11-20T13:37:56.149135Z"
        },
        "id": "-vp9HSjZIY-_",
        "trusted": true
      },
      "outputs": [],
      "source": [
        "k = 3\n",
        "knn = KNeighborsClassifier(n_neighbors=k)\n",
        "knn.fit(X_train, y_train)"
      ]
    },
    {
      "cell_type": "code",
      "execution_count": null,
      "metadata": {
        "execution": {
          "iopub.execute_input": "2024-11-20T13:37:56.200719Z",
          "iopub.status.busy": "2024-11-20T13:37:56.200297Z",
          "iopub.status.idle": "2024-11-20T13:37:56.708968Z",
          "shell.execute_reply": "2024-11-20T13:37:56.707419Z",
          "shell.execute_reply.started": "2024-11-20T13:37:56.200671Z"
        },
        "id": "RFiQbaz9IY-_",
        "trusted": true
      },
      "outputs": [],
      "source": [
        "y_pred_knn = knn.predict(X_test)\n",
        "accuracy = accuracy_score(y_test, y_pred_knn)\n",
        "print(f'Accuracy: {accuracy * 100:.2f}%')"
      ]
    },
    {
      "cell_type": "code",
      "execution_count": null,
      "metadata": {
        "execution": {
          "iopub.execute_input": "2024-11-20T13:37:56.711065Z",
          "iopub.status.busy": "2024-11-20T13:37:56.710738Z",
          "iopub.status.idle": "2024-11-20T13:37:56.740063Z",
          "shell.execute_reply": "2024-11-20T13:37:56.738821Z",
          "shell.execute_reply.started": "2024-11-20T13:37:56.711033Z"
        },
        "id": "XCKFZlWgIY_A",
        "trusted": true
      },
      "outputs": [],
      "source": [
        "print(\"Classification Report:\")\n",
        "print(classification_report(y_test, y_pred_knn))"
      ]
    },
    {
      "cell_type": "code",
      "execution_count": null,
      "metadata": {
        "execution": {
          "iopub.execute_input": "2024-11-20T13:37:56.742141Z",
          "iopub.status.busy": "2024-11-20T13:37:56.741661Z",
          "iopub.status.idle": "2024-11-20T13:37:56.884557Z",
          "shell.execute_reply": "2024-11-20T13:37:56.883339Z",
          "shell.execute_reply.started": "2024-11-20T13:37:56.742091Z"
        },
        "id": "y1Fh8AeSIY_F",
        "trusted": true
      },
      "outputs": [],
      "source": [
        "conf_matrix3 =confusion_matrix(y_test, y_pred_knn)\n",
        "\n",
        "\n",
        "plt.figure(figsize=(8, 6))\n",
        "sns.heatmap(conf_matrix3, annot=True, fmt=\"d\", cmap=\"Blues\", cbar=False,\n",
        "            xticklabels=[\"Predicted Negative\", \"Predicted Positive\"],\n",
        "            yticklabels=[\"Actual Negative\", \"Actual Positive\"])\n",
        "\n",
        "plt.xlabel(\"Predicted Label\")\n",
        "plt.ylabel(\"True Label\")\n",
        "plt.title(\"Confusion Matrix Heatmap\")\n",
        "plt.show()"
      ]
    }
  ],
  "metadata": {
    "colab": {
      "name": "Loan Approval Classification | EDA & ML ",
      "provenance": []
    },
    "kaggle": {
      "accelerator": "none",
      "dataSources": [
        {
          "datasetId": 5969230,
          "sourceId": 9750039,
          "sourceType": "datasetVersion"
        }
      ],
      "dockerImageVersionId": 30786,
      "isGpuEnabled": false,
      "isInternetEnabled": true,
      "language": "python",
      "sourceType": "notebook"
    },
    "kernelspec": {
      "display_name": "env",
      "language": "python",
      "name": "python3"
    },
    "language_info": {
      "codemirror_mode": {
        "name": "ipython",
        "version": 3
      },
      "file_extension": ".py",
      "mimetype": "text/x-python",
      "name": "python",
      "nbconvert_exporter": "python",
      "pygments_lexer": "ipython3",
      "version": "3.10.12"
    }
  },
  "nbformat": 4,
  "nbformat_minor": 0
}
