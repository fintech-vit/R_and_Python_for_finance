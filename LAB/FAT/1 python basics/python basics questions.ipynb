{
 "cells": [
  {
   "cell_type": "markdown",
   "metadata": {},
   "source": [
    "create an oop based complex calculator with atleast 8 functions\n",
    "\n"
   ]
  },
  {
   "cell_type": "markdown",
   "metadata": {},
   "source": [
    "Q1) Complete the implementation of the following class:\n"
   ]
  },
  {
   "cell_type": "code",
   "execution_count": null,
   "metadata": {},
   "outputs": [
    {
     "name": "stdout",
     "output_type": "stream",
     "text": [
      "Addition: 15\n",
      "Subtraction: 5\n",
      "Multiplication: 50\n",
      "Division: 2.0\n",
      "Modulus: 0\n",
      "Power: 8\n",
      "Floor Division: 3\n",
      "Square Root: 4.0\n"
     ]
    }
   ],
   "source": [
    "class Calculator:\n",
    "    def add(self, a, b):\n",
    "        # write your code here\n",
    "\n",
    "    def subtract(self, a, b):\n",
    "        # write your code here\n",
    "\n",
    "    def multiply(self, a, b):\n",
    "        # write your code here\n",
    "\n",
    "    def divide(self, a, b):\n",
    "        if b == 0:\n",
    "            return \"Error: Division by zero\"\n",
    "        # write your code here\n",
    "\n",
    "    def modulus(self, a, b):\n",
    "        # write your code here\n",
    "\n",
    "    def power(self, a, b):\n",
    "        # write your code hereb\n",
    "\n",
    "    def floor_division(self, a, b):\n",
    "        if b == 0:\n",
    "            return \"Error: Division by zero\"\n",
    "        # write your code hereb\n",
    "\n",
    "    def square_root(self, a):\n",
    "        if a < 0:\n",
    "            return \"Error: Negative number\"\n",
    "        # write your code here0.5\n",
    "\n",
    "# Example usage\n",
    "calc = Calculator()\n",
    "print(\"Addition:\", calc.add(10, 5))\n",
    "print(\"Subtraction:\", calc.subtract(10, 5))\n",
    "print(\"Multiplication:\", calc.multiply(10, 5))\n",
    "print(\"Division:\", calc.divide(10, 5))\n",
    "print(\"Modulus:\", calc.modulus(10, 5))\n",
    "print(\"Power:\", calc.power(2, 3))\n",
    "print(\"Floor Division:\", calc.floor_division(10, 3))\n",
    "print(\"Square Root:\", calc.square_root(16))"
   ]
  },
  {
   "cell_type": "markdown",
   "metadata": {},
   "source": [
    "Q2) complete the implementation of the following class to get the output as shown below: \n",
    "\n",
    "```\n",
    "Buddy is a Dog and makes a Woof sound.\n",
    "Whiskers says Meow\n",
    "Daisy is a Cow\n",
    "```"
   ]
  },
  {
   "cell_type": "code",
   "execution_count": null,
   "metadata": {},
   "outputs": [
    {
     "name": "stdout",
     "output_type": "stream",
     "text": [
      "Buddy is a Dog and makes a Woof sound.\n",
      "Whiskers says Meow\n",
      "Daisy is a Cow\n"
     ]
    }
   ],
   "source": [
    "class Animal:\n",
    "    def __init__(self, name, species, sound):\n",
    "        self.name = name\n",
    "        self.species = species\n",
    "        self.sound = sound\n",
    "\n",
    "    def make_sound(self):\n",
    "        return f\"{} says {}\" # write your code here\n",
    "\n",
    "    def get_species(self):\n",
    "        # write your code here\n",
    "\n",
    "    def rename(self, new_name):\n",
    "        self.name = new_name\n",
    "        # write your code here\n",
    "\n",
    "    def describe(self):\n",
    "        # write your code here\n",
    "\n",
    "# Creating objects\n",
    "dog = Animal(\"Buddy\", \"Dog\", \"Woof\")\n",
    "cat = Animal(\"Whiskers\", \"Cat\", \"Meow\")\n",
    "cow = Animal(\"Daisy\", \"Cow\", \"Moo\")\n",
    "\n",
    "# Example usage\n",
    "print(dog.describe())\n",
    "print(cat.make_sound())\n",
    "print(cow.get_species())"
   ]
  },
  {
   "cell_type": "markdown",
   "metadata": {},
   "source": [
    "Q3) Complete the function to check if the given string is a palindrome or not. "
   ]
  },
  {
   "cell_type": "code",
   "execution_count": null,
   "metadata": {},
   "outputs": [
    {
     "name": "stdout",
     "output_type": "stream",
     "text": [
      "Is 'radar' a palindrome? True\n",
      "Is 'hello' a palindrome? False\n"
     ]
    }
   ],
   "source": [
    "def is_palindrome(word):\n",
    "    word = word.lower().replace(\" \", \"\")  # Convert to lowercase and remove spaces\n",
    "    return # your code here\n",
    "\n",
    "# Example usage\n",
    "word = \"radar\"\n",
    "print(f\"Is '{word}' a palindrome? {is_palindrome(word)}\")\n",
    "\n",
    "word = \"hello\"\n",
    "print(f\"Is '{word}' a palindrome? {is_palindrome(word)}\")"
   ]
  },
  {
   "cell_type": "markdown",
   "metadata": {},
   "source": [
    "Q4) Sort the given list in reverse order"
   ]
  },
  {
   "cell_type": "code",
   "execution_count": null,
   "metadata": {},
   "outputs": [
    {
     "name": "stdout",
     "output_type": "stream",
     "text": [
      "Sorted list in reverse order: [9, 7, 5, 2, 1]\n"
     ]
    }
   ],
   "source": [
    "# Example list\n",
    "numbers = [5, 2, 9, 1, 7]\n",
    "\n",
    "# Sorting the list in reverse order\n",
    "# your code here\n",
    "\n",
    "# Output the sorted list\n",
    "print(\"Sorted list in reverse order:\", numbers)"
   ]
  },
  {
   "cell_type": "markdown",
   "metadata": {},
   "source": [
    "Q5) Complete the code to get the frequency if numbers in the list. "
   ]
  },
  {
   "cell_type": "code",
   "execution_count": null,
   "metadata": {},
   "outputs": [
    {
     "name": "stdout",
     "output_type": "stream",
     "text": [
      "Frequency of numbers in the list: {5: 3, 2: 3, 9: 3, 1: 3, 7: 3}\n"
     ]
    }
   ],
   "source": [
    "# Get the frequency of numbers in the list\n",
    "numbers= [5, 2, 9, 1, 7, 5, 2, 9, 1, 7, 5, 2, 9, 1, 7]\n",
    "frequency = {}\n",
    "# your code here\n",
    "\n",
    "# Output the frequency\n",
    "print(\"Frequency of numbers in the list:\", frequency)"
   ]
  },
  {
   "cell_type": "markdown",
   "metadata": {},
   "source": [
    "Q6) Add appropriate Error handling to the following code. (Hint : try running the cell)"
   ]
  },
  {
   "cell_type": "code",
   "execution_count": null,
   "metadata": {},
   "outputs": [
    {
     "ename": "SyntaxError",
     "evalue": "expected ':' (3514429830.py, line 19)",
     "output_type": "error",
     "traceback": [
      "\u001b[0;36m  Cell \u001b[0;32mIn[2], line 19\u001b[0;36m\u001b[0m\n\u001b[0;31m    except # your code here\u001b[0m\n\u001b[0m           ^\u001b[0m\n\u001b[0;31mSyntaxError\u001b[0m\u001b[0;31m:\u001b[0m expected ':'\n"
     ]
    }
   ],
   "source": [
    "def exception_handling_demo():\n",
    "    try:\n",
    "        # Example 1: Division by zero\n",
    "        print(\"Example 1: Division by zero\")\n",
    "        num = 0  # This will cause an error\n",
    "        result = 10 / num  # Division by zero is not allowed\n",
    "        print(\"Result:\", result)\n",
    "\n",
    "    except # your code here\n",
    "        print(\"Error: You cannot divide by zero.\")\n",
    "\n",
    "    try:\n",
    "        # Example 2: Accessing an invalid index in a list\n",
    "        print(\"\\nExample 2: Accessing an invalid index in a list\")\n",
    "        my_list = [1, 2, 3]\n",
    "        index = 5  # This index does not exist in the list\n",
    "        print(\"Element at index:\", my_list[index])\n",
    "\n",
    "    except # your code here\n",
    "        print(\"Error: The index you are trying to access is out of range.\")\n",
    "\n",
    "    try:\n",
    "        # Example 3: Converting invalid input to a number\n",
    "        print(\"\\nExample 3: Invalid input\")\n",
    "        num = int(\"abc\")  # This will cause an error\n",
    "        print(\"Converted number:\", num)\n",
    "\n",
    "    except # your code here\n",
    "        print(\"Error: Please enter a valid number.\")\n",
    "\n",
    "    try:\n",
    "        # Example 4: Catching any unexpected errors\n",
    "        print(\"\\nExample 4: Catching any other errors\")\n",
    "        unknown_variable = my_variable  # This variable is not defined\n",
    "        print(unknown_variable)\n",
    "\n",
    "    except # your code here\n",
    "        print(f\"An unexpected error occurred: {e}\")\n",
    "\n",
    "# Call the function\n",
    "exception_handling_demo()\n"
   ]
  },
  {
   "cell_type": "code",
   "execution_count": null,
   "metadata": {},
   "outputs": [],
   "source": []
  }
 ],
 "metadata": {
  "kernelspec": {
   "display_name": "env",
   "language": "python",
   "name": "python3"
  },
  "language_info": {
   "codemirror_mode": {
    "name": "ipython",
    "version": 3
   },
   "file_extension": ".py",
   "mimetype": "text/x-python",
   "name": "python",
   "nbconvert_exporter": "python",
   "pygments_lexer": "ipython3",
   "version": "3.10.12"
  }
 },
 "nbformat": 4,
 "nbformat_minor": 2
}
