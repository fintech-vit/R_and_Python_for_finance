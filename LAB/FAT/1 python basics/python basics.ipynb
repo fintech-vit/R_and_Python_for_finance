{
 "cells": [
  {
   "cell_type": "markdown",
   "metadata": {},
   "source": [
    "create an oop based complex calculator with atleast 8 functions\n",
    "\n"
   ]
  },
  {
   "cell_type": "code",
   "execution_count": 1,
   "metadata": {},
   "outputs": [
    {
     "name": "stdout",
     "output_type": "stream",
     "text": [
      "Addition: 15\n",
      "Subtraction: 5\n",
      "Multiplication: 50\n",
      "Division: 2.0\n",
      "Modulus: 0\n",
      "Power: 8\n",
      "Floor Division: 3\n",
      "Square Root: 4.0\n"
     ]
    }
   ],
   "source": [
    "class Calculator:\n",
    "    def add(self, a, b):\n",
    "        return a + b\n",
    "\n",
    "    def subtract(self, a, b):\n",
    "        return a - b\n",
    "\n",
    "    def multiply(self, a, b):\n",
    "        return a * b\n",
    "\n",
    "    def divide(self, a, b):\n",
    "        if b == 0:\n",
    "            return \"Error: Division by zero\"\n",
    "        return a / b\n",
    "\n",
    "    def modulus(self, a, b):\n",
    "        return a % b\n",
    "\n",
    "    def power(self, a, b):\n",
    "        return a ** b\n",
    "\n",
    "    def floor_division(self, a, b):\n",
    "        if b == 0:\n",
    "            return \"Error: Division by zero\"\n",
    "        return a // b\n",
    "\n",
    "    def square_root(self, a):\n",
    "        if a < 0:\n",
    "            return \"Error: Negative number\"\n",
    "        return a ** 0.5\n",
    "\n",
    "# Example usage\n",
    "calc = Calculator()\n",
    "print(\"Addition:\", calc.add(10, 5))\n",
    "print(\"Subtraction:\", calc.subtract(10, 5))\n",
    "print(\"Multiplication:\", calc.multiply(10, 5))\n",
    "print(\"Division:\", calc.divide(10, 5))\n",
    "print(\"Modulus:\", calc.modulus(10, 5))\n",
    "print(\"Power:\", calc.power(2, 3))\n",
    "print(\"Floor Division:\", calc.floor_division(10, 3))\n",
    "print(\"Square Root:\", calc.square_root(16))"
   ]
  },
  {
   "cell_type": "code",
   "execution_count": 2,
   "metadata": {},
   "outputs": [
    {
     "name": "stdout",
     "output_type": "stream",
     "text": [
      "Buddy is a Dog and makes a Woof sound.\n",
      "Whiskers says Meow\n",
      "Daisy is a Cow\n"
     ]
    }
   ],
   "source": [
    "class Animal:\n",
    "    def __init__(self, name, species, sound):\n",
    "        self.name = name\n",
    "        self.species = species\n",
    "        self.sound = sound\n",
    "\n",
    "    def make_sound(self):\n",
    "        return f\"{self.name} says {self.sound}\"\n",
    "\n",
    "    def get_species(self):\n",
    "        return f\"{self.name} is a {self.species}\"\n",
    "\n",
    "    def rename(self, new_name):\n",
    "        self.name = new_name\n",
    "        return f\"Animal renamed to {self.name}\"\n",
    "\n",
    "    def describe(self):\n",
    "        return f\"{self.name} is a {self.species} and makes a {self.sound} sound.\"\n",
    "\n",
    "# Creating objects\n",
    "dog = Animal(\"Buddy\", \"Dog\", \"Woof\")\n",
    "cat = Animal(\"Whiskers\", \"Cat\", \"Meow\")\n",
    "cow = Animal(\"Daisy\", \"Cow\", \"Moo\")\n",
    "\n",
    "# Example usage\n",
    "print(dog.describe())\n",
    "print(cat.make_sound())\n",
    "print(cow.get_species())"
   ]
  },
  {
   "cell_type": "code",
   "execution_count": 3,
   "metadata": {},
   "outputs": [
    {
     "name": "stdout",
     "output_type": "stream",
     "text": [
      "Is 'radar' a palindrome? True\n",
      "Is 'hello' a palindrome? False\n"
     ]
    }
   ],
   "source": [
    "def is_palindrome(word):\n",
    "    word = word.lower().replace(\" \", \"\")  # Convert to lowercase and remove spaces\n",
    "    return word == word[::-1]\n",
    "\n",
    "# Example usage\n",
    "word = \"radar\"\n",
    "print(f\"Is '{word}' a palindrome? {is_palindrome(word)}\")\n",
    "\n",
    "word = \"hello\"\n",
    "print(f\"Is '{word}' a palindrome? {is_palindrome(word)}\")"
   ]
  },
  {
   "cell_type": "code",
   "execution_count": 4,
   "metadata": {},
   "outputs": [
    {
     "name": "stdout",
     "output_type": "stream",
     "text": [
      "Sorted list in reverse order: [9, 7, 5, 2, 1]\n"
     ]
    }
   ],
   "source": [
    "# Example list\n",
    "numbers = [5, 2, 9, 1, 7]\n",
    "\n",
    "# Sorting the list in reverse order\n",
    "numbers.sort(reverse=True)\n",
    "\n",
    "# Output the sorted list\n",
    "print(\"Sorted list in reverse order:\", numbers)"
   ]
  },
  {
   "cell_type": "code",
   "execution_count": 6,
   "metadata": {},
   "outputs": [
    {
     "name": "stdout",
     "output_type": "stream",
     "text": [
      "Frequency of numbers in the list: {5: 3, 2: 3, 9: 3, 1: 3, 7: 3}\n"
     ]
    }
   ],
   "source": [
    "# Get the frequency of numbers in the list\n",
    "numbers= [5, 2, 9, 1, 7, 5, 2, 9, 1, 7, 5, 2, 9, 1, 7]\n",
    "frequency = {}\n",
    "for num in numbers:\n",
    "    frequency[num] = frequency.get(num, 0) + 1\n",
    "\n",
    "# Output the frequency\n",
    "print(\"Frequency of numbers in the list:\", frequency)"
   ]
  },
  {
   "cell_type": "code",
   "execution_count": 7,
   "metadata": {},
   "outputs": [
    {
     "name": "stdout",
     "output_type": "stream",
     "text": [
      "Example 1: Division by zero\n",
      "Error: You cannot divide by zero.\n",
      "\n",
      "Example 2: Accessing an invalid index in a list\n",
      "Error: The index you are trying to access is out of range.\n",
      "\n",
      "Example 3: Invalid input\n",
      "Error: Please enter a valid number.\n",
      "\n",
      "Example 4: Catching any other errors\n",
      "An unexpected error occurred: name 'my_variable' is not defined\n"
     ]
    }
   ],
   "source": [
    "def exception_handling_demo():\n",
    "    try:\n",
    "        # Example 1: Division by zero\n",
    "        print(\"Example 1: Division by zero\")\n",
    "        num = 0  # This will cause an error\n",
    "        result = 10 / num  # Division by zero is not allowed\n",
    "        print(\"Result:\", result)\n",
    "\n",
    "    except ZeroDivisionError:\n",
    "        print(\"Error: You cannot divide by zero.\")\n",
    "\n",
    "    try:\n",
    "        # Example 2: Accessing an invalid index in a list\n",
    "        print(\"\\nExample 2: Accessing an invalid index in a list\")\n",
    "        my_list = [1, 2, 3]\n",
    "        index = 5  # This index does not exist in the list\n",
    "        print(\"Element at index:\", my_list[index])\n",
    "\n",
    "    except IndexError:\n",
    "        print(\"Error: The index you are trying to access is out of range.\")\n",
    "\n",
    "    try:\n",
    "        # Example 3: Converting invalid input to a number\n",
    "        print(\"\\nExample 3: Invalid input\")\n",
    "        num = int(\"abc\")  # This will cause an error\n",
    "        print(\"Converted number:\", num)\n",
    "\n",
    "    except ValueError:\n",
    "        print(\"Error: Please enter a valid number.\")\n",
    "\n",
    "    try:\n",
    "        # Example 4: Catching any unexpected errors\n",
    "        print(\"\\nExample 4: Catching any other errors\")\n",
    "        unknown_variable = my_variable  # This variable is not defined\n",
    "        print(unknown_variable)\n",
    "\n",
    "    except Exception as e:\n",
    "        print(f\"An unexpected error occurred: {e}\")\n",
    "\n",
    "# Call the function\n",
    "exception_handling_demo()\n"
   ]
  },
  {
   "cell_type": "code",
   "execution_count": null,
   "metadata": {},
   "outputs": [],
   "source": []
  }
 ],
 "metadata": {
  "kernelspec": {
   "display_name": "env",
   "language": "python",
   "name": "python3"
  },
  "language_info": {
   "codemirror_mode": {
    "name": "ipython",
    "version": 3
   },
   "file_extension": ".py",
   "mimetype": "text/x-python",
   "name": "python",
   "nbconvert_exporter": "python",
   "pygments_lexer": "ipython3",
   "version": "3.10.12"
  }
 },
 "nbformat": 4,
 "nbformat_minor": 2
}
